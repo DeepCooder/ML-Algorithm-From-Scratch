{
 "cells": [
  {
   "cell_type": "code",
   "execution_count": 18,
   "id": "641ee372",
   "metadata": {},
   "outputs": [],
   "source": [
    "import pandas as pd\n",
    "import numpy as np\n",
    "import matplotlib.pyplot as plt\n",
    "# 'svm' is a module in the 'sklearn' library that contains support vector machine algorithms.\n",
    "from sklearn import svm\n",
    "# 'classification_report' is a function in the 'sklearn.metrics' module that builds a text report showing the main classification metrics.\n",
    "from sklearn.metrics import classification_report\n",
    "# 'LogisticRegression' is a class in the 'sklearn.linear_model' module for logistic regression classification.\n",
    "from sklearn.linear_model import LogisticRegression\n",
    "# 'loadmat' is a function in the 'scipy.io' module that reads MATLAB mat files.\n",
    "from scipy.io import loadmat\n",
    "# 'GridSearchCV' is a class in the 'sklearn.model_selection' module that implements a “fit” and a “score” method. It also implements “predict”, “predict_proba”, “decision_function”, “transform” and “inverse_transform” if they are available in the estimator used.\n",
    "from sklearn.model_selection import GridSearchCV"
   ]
  },
  {
   "cell_type": "code",
   "execution_count": 59,
   "id": "6592d2af",
   "metadata": {},
   "outputs": [],
   "source": [
    "vocab_path = r\"D:\\MyProjects\\Python\\Andrew Ng_ML_Exercise\\python代码\\ex6-SVM\\data\\vocab.txt\"\n",
    "train_path = r\"D:\\MyProjects\\Python\\Andrew Ng_ML_Exercise\\python代码\\ex6-SVM\\data\\spamTrain.mat\"\n",
    "test_path = r\"D:\\MyProjects\\Python\\Andrew Ng_ML_Exercise\\python代码\\ex6-SVM\\data\\spamTest.mat\""
   ]
  },
  {
   "cell_type": "code",
   "execution_count": 60,
   "id": "2e706ed2",
   "metadata": {},
   "outputs": [],
   "source": [
    "tr_data = loadmat(train_path)\n",
    "te_data = loadmat(test_path)\n",
    "X, y, Xtest, ytest = tr_data['X'], tr_data['y'].flatten(), te_data['Xtest'], te_data['ytest'].flatten()"
   ]
  },
  {
   "cell_type": "code",
   "execution_count": null,
   "id": "9ebc0057",
   "metadata": {},
   "outputs": [],
   "source": [
    "[n.shape for n in [X, y, Xtest, ytest]]"
   ]
  },
  {
   "cell_type": "markdown",
   "id": "a9fed032",
   "metadata": {},
   "source": [
    "### spam with SVM"
   ]
  },
  {
   "cell_type": "code",
   "execution_count": 61,
   "id": "dee4a917",
   "metadata": {},
   "outputs": [
    {
     "data": {
      "text/plain": [
       "{'C': 1.0,\n",
       " 'break_ties': False,\n",
       " 'cache_size': 200,\n",
       " 'class_weight': None,\n",
       " 'coef0': 0.0,\n",
       " 'decision_function_shape': 'ovr',\n",
       " 'degree': 3,\n",
       " 'gamma': 'scale',\n",
       " 'kernel': 'linear',\n",
       " 'max_iter': -1,\n",
       " 'probability': False,\n",
       " 'random_state': None,\n",
       " 'shrinking': True,\n",
       " 'tol': 0.001,\n",
       " 'verbose': False}"
      ]
     },
     "execution_count": 61,
     "metadata": {},
     "output_type": "execute_result"
    }
   ],
   "source": [
    "svc = svm.SVC(kernel='linear')\n",
    "svc.fit(X,y)\n",
    "svc.get_params()"
   ]
  },
  {
   "cell_type": "code",
   "execution_count": null,
   "id": "32e07c97",
   "metadata": {},
   "outputs": [],
   "source": [
    "y_pre = svc.predict(Xtest)\n",
    "res = classification_report(ytest, y_pre)\n",
    "print(res)"
   ]
  },
  {
   "cell_type": "markdown",
   "id": "a7692d80",
   "metadata": {},
   "source": [
    "### get the most probability feature for spam"
   ]
  },
  {
   "cell_type": "code",
   "execution_count": 88,
   "id": "7dd601b9",
   "metadata": {},
   "outputs": [],
   "source": [
    "k=20\n",
    "fea_weight = svc.coef_\n",
    "abs_fweight = np.mean(np.abs(fea_weight), axis=0)\n",
    "vip_fdex = np.argsort(abs_fweight)[-k:]"
   ]
  },
  {
   "cell_type": "code",
   "execution_count": 92,
   "id": "b1e5e85d",
   "metadata": {},
   "outputs": [
    {
     "data": {
      "text/plain": [
       "['clearli',\n",
       " 'visa',\n",
       " 'that',\n",
       " 'remot',\n",
       " 'numberanumb',\n",
       " 'why',\n",
       " 'flag',\n",
       " 'http',\n",
       " 'et',\n",
       " 'urgent',\n",
       " 'instant',\n",
       " 'datapow',\n",
       " 'spam',\n",
       " 'steve',\n",
       " 'addit',\n",
       " 'otherwis',\n",
       " 'kid',\n",
       " 'round',\n",
       " 'wrong',\n",
       " 'studi']"
      ]
     },
     "execution_count": 92,
     "metadata": {},
     "output_type": "execute_result"
    }
   ],
   "source": [
    "with open(vocab_path, 'r') as file:\n",
    "    mydict = {int(line.split()[0]):line.split()[1] for line in file}\n",
    "vip_words = list(map(mydict.get,vip_fdex),)\n",
    "vip_words"
   ]
  },
  {
   "cell_type": "code",
   "execution_count": 106,
   "id": "f7fc63c0",
   "metadata": {},
   "outputs": [
    {
     "data": {
      "text/plain": [
       "['option',\n",
       " 'bd',\n",
       " 'friend',\n",
       " 'thank',\n",
       " 'young',\n",
       " 'email',\n",
       " 'issu',\n",
       " 'wish',\n",
       " 'old',\n",
       " 'york',\n",
       " 'these',\n",
       " 'food',\n",
       " 'irish',\n",
       " 'octob',\n",
       " 'improv',\n",
       " 'analyst',\n",
       " 'http',\n",
       " 'null',\n",
       " 'tm',\n",
       " 'that']"
      ]
     },
     "execution_count": 106,
     "metadata": {},
     "output_type": "execute_result"
    }
   ],
   "source": [
    "su_index = svc.support_\n",
    "su_fea = X[su_index]\n",
    "fea_mean = np.mean(su_fea,axis=0)\n",
    "vip_findex = np.argsort(np.abs(fea_mean))[-k:]\n",
    "vip_fea = list(map(mydict.get,vip_findex))\n",
    "vip_fea"
   ]
  },
  {
   "cell_type": "markdown",
   "id": "63f8eaf8",
   "metadata": {},
   "source": [
    "### what about linear logistic regresion?"
   ]
  },
  {
   "cell_type": "code",
   "execution_count": 109,
   "id": "c4fb3613",
   "metadata": {},
   "outputs": [
    {
     "data": {
      "text/plain": [
       "{'C': 1.0,\n",
       " 'class_weight': None,\n",
       " 'dual': False,\n",
       " 'fit_intercept': True,\n",
       " 'intercept_scaling': 1,\n",
       " 'l1_ratio': None,\n",
       " 'max_iter': 100,\n",
       " 'multi_class': 'auto',\n",
       " 'n_jobs': None,\n",
       " 'penalty': 'l2',\n",
       " 'random_state': None,\n",
       " 'solver': 'lbfgs',\n",
       " 'tol': 0.0001,\n",
       " 'verbose': 0,\n",
       " 'warm_start': False}"
      ]
     },
     "execution_count": 109,
     "metadata": {},
     "output_type": "execute_result"
    }
   ],
   "source": [
    "logi  = LogisticRegression()\n",
    "logi.fit(X,y)\n",
    "logi.get_params()"
   ]
  },
  {
   "cell_type": "code",
   "execution_count": 113,
   "id": "bec191d3",
   "metadata": {},
   "outputs": [
    {
     "name": "stdout",
     "output_type": "stream",
     "text": [
      "              precision    recall  f1-score   support\n",
      "\n",
      "           0       1.00      0.99      1.00       692\n",
      "           1       0.99      0.99      0.99       308\n",
      "\n",
      "    accuracy                           0.99      1000\n",
      "   macro avg       0.99      0.99      0.99      1000\n",
      "weighted avg       0.99      0.99      0.99      1000\n",
      "\n"
     ]
    }
   ],
   "source": [
    "y_pre = logi.predict(Xtest)\n",
    "res = classification_report(ytest, y_pre)\n",
    "print(res)"
   ]
  },
  {
   "cell_type": "code",
   "execution_count": null,
   "id": "0d5541e2",
   "metadata": {},
   "outputs": [],
   "source": []
  },
  {
   "cell_type": "code",
   "execution_count": null,
   "id": "c94c42ef",
   "metadata": {},
   "outputs": [],
   "source": []
  },
  {
   "cell_type": "code",
   "execution_count": null,
   "id": "83508cdc",
   "metadata": {},
   "outputs": [],
   "source": []
  },
  {
   "cell_type": "code",
   "execution_count": null,
   "id": "214e2bb0",
   "metadata": {},
   "outputs": [],
   "source": []
  },
  {
   "cell_type": "code",
   "execution_count": null,
   "id": "5c681910",
   "metadata": {},
   "outputs": [],
   "source": []
  },
  {
   "cell_type": "code",
   "execution_count": null,
   "id": "895d64ba",
   "metadata": {},
   "outputs": [],
   "source": []
  },
  {
   "cell_type": "code",
   "execution_count": null,
   "id": "c65c1b4f",
   "metadata": {},
   "outputs": [],
   "source": []
  },
  {
   "cell_type": "code",
   "execution_count": null,
   "id": "eb1fbb98",
   "metadata": {},
   "outputs": [],
   "source": []
  },
  {
   "cell_type": "code",
   "execution_count": null,
   "id": "4d9298ad",
   "metadata": {},
   "outputs": [],
   "source": []
  },
  {
   "cell_type": "code",
   "execution_count": null,
   "id": "aac4371f",
   "metadata": {},
   "outputs": [],
   "source": []
  },
  {
   "cell_type": "code",
   "execution_count": null,
   "id": "7e891403",
   "metadata": {},
   "outputs": [],
   "source": []
  },
  {
   "cell_type": "code",
   "execution_count": null,
   "id": "f22dac6e",
   "metadata": {},
   "outputs": [],
   "source": []
  },
  {
   "cell_type": "code",
   "execution_count": null,
   "id": "1552b1ff",
   "metadata": {},
   "outputs": [],
   "source": []
  },
  {
   "cell_type": "code",
   "execution_count": null,
   "id": "8df467fa",
   "metadata": {},
   "outputs": [],
   "source": []
  },
  {
   "cell_type": "code",
   "execution_count": null,
   "id": "a333c69a",
   "metadata": {},
   "outputs": [],
   "source": []
  },
  {
   "cell_type": "code",
   "execution_count": null,
   "id": "f7c34fd4",
   "metadata": {},
   "outputs": [],
   "source": []
  },
  {
   "cell_type": "code",
   "execution_count": null,
   "id": "a6312305",
   "metadata": {},
   "outputs": [],
   "source": []
  },
  {
   "cell_type": "code",
   "execution_count": null,
   "id": "303dd6ad",
   "metadata": {},
   "outputs": [],
   "source": []
  },
  {
   "cell_type": "code",
   "execution_count": null,
   "id": "3571eae4",
   "metadata": {},
   "outputs": [],
   "source": []
  },
  {
   "cell_type": "code",
   "execution_count": null,
   "id": "40bfb8c8",
   "metadata": {},
   "outputs": [],
   "source": []
  },
  {
   "cell_type": "code",
   "execution_count": null,
   "id": "3d30a282",
   "metadata": {},
   "outputs": [],
   "source": []
  },
  {
   "cell_type": "code",
   "execution_count": null,
   "id": "1a86b14e",
   "metadata": {},
   "outputs": [],
   "source": []
  },
  {
   "cell_type": "code",
   "execution_count": null,
   "id": "85c929ce",
   "metadata": {},
   "outputs": [],
   "source": []
  },
  {
   "cell_type": "code",
   "execution_count": null,
   "id": "0d9c8b1e",
   "metadata": {},
   "outputs": [],
   "source": []
  },
  {
   "cell_type": "code",
   "execution_count": null,
   "id": "067ab74d",
   "metadata": {},
   "outputs": [],
   "source": []
  },
  {
   "cell_type": "code",
   "execution_count": null,
   "id": "d131108e",
   "metadata": {},
   "outputs": [],
   "source": []
  },
  {
   "cell_type": "code",
   "execution_count": null,
   "id": "3f53ffbd",
   "metadata": {},
   "outputs": [],
   "source": []
  },
  {
   "cell_type": "code",
   "execution_count": null,
   "id": "81ef08ad",
   "metadata": {},
   "outputs": [],
   "source": []
  },
  {
   "cell_type": "code",
   "execution_count": null,
   "id": "c28a10b4",
   "metadata": {},
   "outputs": [],
   "source": []
  },
  {
   "cell_type": "code",
   "execution_count": null,
   "id": "5a2ca495",
   "metadata": {},
   "outputs": [],
   "source": []
  },
  {
   "cell_type": "code",
   "execution_count": null,
   "id": "b2e79451",
   "metadata": {},
   "outputs": [],
   "source": []
  },
  {
   "cell_type": "code",
   "execution_count": null,
   "id": "58d82974",
   "metadata": {},
   "outputs": [],
   "source": []
  },
  {
   "cell_type": "code",
   "execution_count": null,
   "id": "e6ecff19",
   "metadata": {},
   "outputs": [],
   "source": []
  },
  {
   "cell_type": "code",
   "execution_count": null,
   "id": "55e46c03",
   "metadata": {},
   "outputs": [],
   "source": []
  },
  {
   "cell_type": "code",
   "execution_count": null,
   "id": "d47a3f95",
   "metadata": {},
   "outputs": [],
   "source": []
  },
  {
   "cell_type": "code",
   "execution_count": null,
   "id": "77980bc5",
   "metadata": {},
   "outputs": [],
   "source": []
  },
  {
   "cell_type": "code",
   "execution_count": null,
   "id": "60a3f634",
   "metadata": {},
   "outputs": [],
   "source": []
  },
  {
   "cell_type": "code",
   "execution_count": null,
   "id": "d490357e",
   "metadata": {},
   "outputs": [],
   "source": []
  },
  {
   "cell_type": "code",
   "execution_count": null,
   "id": "943dd91d",
   "metadata": {},
   "outputs": [],
   "source": []
  },
  {
   "cell_type": "code",
   "execution_count": null,
   "id": "d82db4d5",
   "metadata": {},
   "outputs": [],
   "source": []
  }
 ],
 "metadata": {
  "kernelspec": {
   "display_name": "Python 3 (ipykernel)",
   "language": "python",
   "name": "python3"
  },
  "language_info": {
   "codemirror_mode": {
    "name": "ipython",
    "version": 3
   },
   "file_extension": ".py",
   "mimetype": "text/x-python",
   "name": "python",
   "nbconvert_exporter": "python",
   "pygments_lexer": "ipython3",
   "version": "3.9.13"
  },
  "varInspector": {
   "cols": {
    "lenName": 16,
    "lenType": 16,
    "lenVar": 40
   },
   "kernels_config": {
    "python": {
     "delete_cmd_postfix": "",
     "delete_cmd_prefix": "del ",
     "library": "var_list.py",
     "varRefreshCmd": "print(var_dic_list())"
    },
    "r": {
     "delete_cmd_postfix": ") ",
     "delete_cmd_prefix": "rm(",
     "library": "var_list.r",
     "varRefreshCmd": "cat(var_dic_list()) "
    }
   },
   "types_to_exclude": [
    "module",
    "function",
    "builtin_function_or_method",
    "instance",
    "_Feature"
   ],
   "window_display": false
  }
 },
 "nbformat": 4,
 "nbformat_minor": 5
}

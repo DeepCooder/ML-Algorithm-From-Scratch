{
 "cells": [
  {
   "cell_type": "markdown",
   "metadata": {},
   "source": [
    "## Exercise 1: Implement Regularized Linear Regression\n",
    "\n",
    "**Theory:**\n",
    "- Cost function with L2 regularization:\n",
    "$$J(\\theta) = \\frac{1}{2m} \\sum_{i=1}^m (h_\\theta(x^{(i)}) - y^{(i)})^2 + \\frac{\\lambda}{2m} \\sum_{j=1}^n \\theta_j^2$$\n",
    "- Gradient with regularization term for $\\theta_j$:\n",
    "$$\\frac{\\partial J(\\theta)}{\\partial \\theta_j} = \\begin{cases} \\frac{1}{m}\\sum_{i=1}^m (h_\\theta(x^{(i)}) - y^{(i)})x_j^{(i)}, & \\text{for } j = 0\\\\\n",
    "\\frac{1}{m}\\sum_{i=1}^m (h_\\theta(x^{(i)}) - y^{(i)})x_j^{(i)} + \\frac{\\lambda}{m}\\theta_j, & \\text{for } j \\geq 1\n",
    "\\end{cases}$$\n",
    "\n",
    "**Functions:**\n",
    "- `linearRegCostFunction`: Calculate regularized linear regression cost\n",
    "- `trainLinearReg`: Train linear regression model\n",
    "\n",
    "**Data:**\n",
    "- Training data: `X`, `y`  \n",
    "- Cross validation data: `Xval`, `yval`\n",
    "- Test data: `Xtest`, `ytest`\n",
    "\n",
    "**Steps:**\n",
    "1. Implement `linearRegCostFunction` to calculate cost and gradient\n",
    "2. Run on sample $\\theta$, verify cost and gradient values \n",
    "3. Set $\\lambda=0$, use `trainLinearReg` to find optimal $\\theta$\n",
    "4. Plot regression fit\n",
    "\n",
    "## Exercise 2: Bias-Variance Analysis\n",
    "\n",
    "**Theory:** \n",
    "- Training error measures model fit on training data\n",
    "- Cross validation error measures ability to generalize\n",
    "\n",
    "**Function:**\n",
    "- `learningCurve`: Calculate train and CV error vs number of examples \n",
    "\n",
    "**Steps:**\n",
    "1. Implement `learningCurve` \n",
    "2. Plot learning curves\n",
    "3. Analyze high bias problem in linear regression model\n",
    "\n",
    "## Exercise 3: Polynomial Regression  \n",
    "\n",
    "**Theory:**\n",
    "- Hypothesis with polynomial terms: \n",
    "$$h_\\theta(x) = \\theta_0 + \\theta_1 x + \\theta_2 x^2 + ... + \\theta_p x^p$$\n",
    "- Map features to higher dimensions\n",
    "\n",
    "**Functions:** \n",
    "- `polyFeatures`: Map features to polynomial terms\n",
    "- `validationCurve`: Calculate train/CV error vs $\\lambda$\n",
    "\n",
    "**Steps:** \n",
    "1. Implement `polyFeatures`\n",
    "2. Use polynomial features for regression\n",
    "3. Plot fits and learning curves for $\\lambda=0$ (overfitting)\n",
    "4. Implement `validationCurve`\n",
    "5. Find best $\\lambda$ based on CV error \n",
    "6. Evaluate test error using best $\\lambda$"
   ]
  },
  {
   "cell_type": "markdown",
   "metadata": {},
   "source": []
  }
 ],
 "metadata": {
  "kernelspec": {
   "display_name": "base",
   "language": "python",
   "name": "python3"
  },
  "language_info": {
   "name": "python",
   "version": "3.11.5"
  }
 },
 "nbformat": 4,
 "nbformat_minor": 2
}

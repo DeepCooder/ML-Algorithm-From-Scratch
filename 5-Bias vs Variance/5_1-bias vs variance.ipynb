{
 "cells": [
  {
   "cell_type": "code",
   "execution_count": 1,
   "id": "e49c97c2",
   "metadata": {},
   "outputs": [],
   "source": [
    "import numpy as np\n",
    "import scipy.io as sio\n",
    "import scipy.optimize as opt\n",
    "import pandas as pd\n",
    "import matplotlib.pyplot as plt\n",
    "import seaborn as sns\n",
    "from functools import partial"
   ]
  },
  {
   "cell_type": "code",
   "execution_count": 139,
   "id": "f28d1a9d",
   "metadata": {},
   "outputs": [],
   "source": [
    "path = r\"G:\\AI学习资料\\machine-learning-2014\\机器学习课程2014源代码\\python代码\\ex5-bias vs variance\\ex5data1.mat\"\n",
    "raw_data = sio.loadmat(path)\n",
    "#print(raw_data)"
   ]
  },
  {
   "cell_type": "markdown",
   "id": "57e3f6d3",
   "metadata": {},
   "source": [
    "### Get Data"
   ]
  },
  {
   "cell_type": "code",
   "execution_count": 140,
   "id": "f5738150",
   "metadata": {
    "code_folding": [
     0
    ]
   },
   "outputs": [],
   "source": [
    "class RData:\n",
    "    def __init__(self,raw_data):\n",
    "        self.raw_data = raw_data\n",
    "    def get_trxy(self,insert_one=True):\n",
    "        tx = self.raw_data[\"X\"]\n",
    "        ty = self.raw_data[\"y\"]\n",
    "        if insert_one:\n",
    "            tx = np.insert(tx,obj=0,values=1,axis=1)\n",
    "        return tx, ty\n",
    "    def get_vcxy(self,insert_one=True):\n",
    "        vx = self.raw_data[\"Xval\"]\n",
    "        vy = self.raw_data[\"yval\"]\n",
    "        if insert_one:\n",
    "            vx = np.insert(vx,obj=0,values=1,axis=1)\n",
    "        return vx, vy\n",
    "    def get_texy(self,insert_one=True):\n",
    "        tex = self.raw_data[\"Xtest\"]\n",
    "        tey = self.raw_data[\"ytest\"]\n",
    "        if insert_one:\n",
    "            tex = np.insert(tex,obj=0,values=1,axis=1)\n",
    "        return tex, tey\n",
    "    def __call__(self):\n",
    "        info = [str(key) + \"shape:\" + str(item.shape) for key, item in self.raw_data.items() if key[0]!=\"_\"]\n",
    "        return info\n",
    "    def get_allx(self):\n",
    "        return self.get_trxy(False)[0],self.get_vcxy(False)[0],self.get_texy(False)[0]\n",
    "    def get_ally(self):\n",
    "        return self.get_trxy(False)[1],self.get_vcxy(False)[1],self.get_texy(False)[1]\n",
    "gdata = RData(raw_data)"
   ]
  },
  {
   "cell_type": "code",
   "execution_count": 141,
   "id": "233cd96e",
   "metadata": {},
   "outputs": [
    {
     "data": {
      "text/plain": [
       "array([1., 1.])"
      ]
     },
     "execution_count": 141,
     "metadata": {},
     "output_type": "execute_result"
    }
   ],
   "source": [
    "get_theta = lambda num:np.ones(num) \n",
    "theta = get_theta(2)\n",
    "theta"
   ]
  },
  {
   "cell_type": "markdown",
   "id": "79f3041c",
   "metadata": {},
   "source": [
    "### Plot raw data"
   ]
  },
  {
   "cell_type": "code",
   "execution_count": 142,
   "id": "b22c7cea",
   "metadata": {
    "code_folding": [
     0
    ]
   },
   "outputs": [
    {
     "data": {
      "image/png": "[encoded data removed]",
      "text/plain": [
       "<Figure size 448x336 with 1 Axes>"
      ]
     },
     "metadata": {},
     "output_type": "display_data"
    }
   ],
   "source": [
    "def plot_data(gdata): \n",
    "    fig,axes = plt.subplots(dpi=70)\n",
    "    x,y = gdata.get_trxy(insert_one=False)\n",
    "    axes.plot(x,y,\"rx\")\n",
    "    axes.set_xlabel(\"Change in water level (x)\")\n",
    "    axes.set_ylabel(\"Water flowing out of the dam (y)\")\n",
    "    plt.plot()\n",
    "    return None\n",
    "plot_data(gdata)"
   ]
  },
  {
   "cell_type": "markdown",
   "id": "8110cdcc",
   "metadata": {},
   "source": [
    "### Cost and Gradient"
   ]
  },
  {
   "cell_type": "code",
   "execution_count": 143,
   "id": "049f0479",
   "metadata": {
    "code_folding": [
     1
    ]
   },
   "outputs": [
    {
     "data": {
      "text/plain": [
       "(303.9515255535976, array([-15.30301567, 598.16741084]))"
      ]
     },
     "execution_count": 143,
     "metadata": {},
     "output_type": "execute_result"
    }
   ],
   "source": [
    "X,y = gdata.get_trxy()\n",
    "def re_cost(theta,X,y,lamda=0):\n",
    "    m = X.shape[0]\n",
    "    cost = 0.5*np.power((X@theta[:,None]-y),2).mean()\n",
    "    cost_rgu = (lamda/(2*m))*np.power(theta[1:],2).sum()\n",
    "    gradient = (1/m)*((X@theta[:,None]-y).T@X).flatten()\n",
    "    gradient_rgu = np.insert((lamda/m)*theta[1:],obj=0,values=0,axis=0)\n",
    "    return cost+cost_rgu, gradient+gradient_rgu\n",
    "re_cost(theta,X,y)"
   ]
  },
  {
   "cell_type": "code",
   "execution_count": 144,
   "id": "7d44af3c",
   "metadata": {},
   "outputs": [],
   "source": [
    "res = opt.minimize(re_cost,x0=theta,args=(X,y),method=\"Newton-CG\",jac=True)"
   ]
  },
  {
   "cell_type": "code",
   "execution_count": 146,
   "id": "b686b1db",
   "metadata": {},
   "outputs": [],
   "source": [
    "final_theta = res.x"
   ]
  },
  {
   "cell_type": "code",
   "execution_count": 147,
   "id": "1ff7bfe8",
   "metadata": {
    "code_folding": [
     0
    ]
   },
   "outputs": [
    {
     "data": {
      "image/png": "[encoded data removed]",
      "text/plain": [
       "<Figure size 448x336 with 1 Axes>"
      ]
     },
     "metadata": {},
     "output_type": "display_data"
    }
   ],
   "source": [
    "def plot_hbias(gdata,theta): \n",
    "    fig,axes = plt.subplots(dpi=70)\n",
    "    x,y1 = gdata.get_trxy(insert_one=False)\n",
    "    y2 = [theta[0]+theta[1]*i for i in x]\n",
    "    axes.plot(x,y1,\"rx\")\n",
    "    axes.plot(x,y2,\"b-\")\n",
    "    axes.set_xlabel(\"Change in water level (x)\")\n",
    "    axes.set_ylabel(\"Water flowing out of the dam (y)\")\n",
    "    plt.plot()\n",
    "    return None\n",
    "plot_hbias(gdata,final_theta)"
   ]
  },
  {
   "cell_type": "markdown",
   "id": "33a7d6b9",
   "metadata": {},
   "source": [
    "### Learning Curve of high bias"
   ]
  },
  {
   "cell_type": "code",
   "execution_count": 158,
   "id": "ec6833c6",
   "metadata": {
    "code_folding": [
     3
    ]
   },
   "outputs": [],
   "source": [
    "# 'tx' and 'ty' are the training data and labels, respectively.\n",
    "# 'vx' and 'vy' are the validation data and labels, respectively.\n",
    "tx,ty = gdata.get_trxy()\n",
    "vx,vy = gdata.get_vcxy()\n",
    "\n",
    "# 'theta' is the initial parameter vector.\n",
    "theta = get_theta(tx.shape[1])\n",
    "\n",
    "# Define a function 'learning_curve' to compute the training and validation errors for different sizes of the training set.\n",
    "# 'theta' is the initial parameter vector.\n",
    "# 'tx' and 'ty' are the training data and labels.\n",
    "# 'vx' and 'vy' are the validation data and labels.\n",
    "# 'lamda' is the regularization parameter.\n",
    "def learning_curve(theta,tx,ty,vx,vy,lamda=1):\n",
    "    # Initialize the lists 'tr_errs' and 'cv_errs' to store the training and validation errors, respectively.\n",
    "    tr_errs = []\n",
    "    cv_errs = []\n",
    "    # 'm' is the number of training examples.\n",
    "    m = tx.shape[0]\n",
    "    # 'res' is a function that uses the 'minimize' function from the 'scipy.optimize' module to find the parameters that minimize the cost function.\n",
    "    res = partial(opt.minimize,fun=re_cost,x0=theta,method=\"TNC\",jac=True,options={'disp':True})\n",
    "    # For each training example, compute the training and validation errors and append them to 'tr_errs' and 'cv_errs', respectively.\n",
    "    for index, _ in enumerate(tx):\n",
    "        # 'tem_theta' is the parameter vector that minimizes the cost function for the current subset of the training data.\n",
    "        tem_theta = res(args=(tx[0:index+1,:],ty[0:index+1,:],lamda)).x\n",
    "        # 'tr_err' is the training error for the current subset of the training data.\n",
    "        tr_err = re_cost(tem_theta,tx[0:index+1,:],ty[0:index+1,:],lamda=0)[0]\n",
    "        # 'cv_err' is the validation error for the current subset of the training data.\n",
    "        cv_err = re_cost(tem_theta,vx,vy,lamda=0)[0]\n",
    "        # Append 'tr_err' and 'cv_err' to 'tr_errs' and 'cv_errs', respectively.\n",
    "        tr_errs.append(tr_err)\n",
    "        cv_errs.append(cv_err)\n",
    "    # Return 'tr_errs' and 'cv_errs' as numpy arrays.\n",
    "    return np.array(tr_errs), np.array(cv_errs)"
   ]
  },
  {
   "cell_type": "code",
   "execution_count": 159,
   "id": "f710ce8d",
   "metadata": {},
   "outputs": [],
   "source": [
    "errs = learning_curve(theta,tx,ty,vx,vy)"
   ]
  },
  {
   "cell_type": "code",
   "execution_count": 160,
   "id": "9a6c55e4",
   "metadata": {
    "code_folding": [
     0
    ]
   },
   "outputs": [
    {
     "data": {
      "image/png": "[encoded data removed]",
      "text/plain": [
       "<Figure size 448x336 with 1 Axes>"
      ]
     },
     "metadata": {},
     "output_type": "display_data"
    }
   ],
   "source": [
    "def plot_lcurve(errs): \n",
    "    fig,axes = plt.subplots(dpi=70)\n",
    "    x = np.arange(1,len(errs[0])+1,step=1)\n",
    "    tr = errs[0]\n",
    "    cv =errs[1]\n",
    "    axes.plot(x,tr,\"r-\",label=\"Jtraining\")\n",
    "    axes.plot(x,cv,\"b-\",label=\"Jcv\")\n",
    "    axes.set_xlabel(\"Training set\")\n",
    "    axes.set_ylabel(\"err\")\n",
    "    axes.legend()\n",
    "    plt.plot()\n",
    "    return None\n",
    "plot_lcurve(errs)"
   ]
  },
  {
   "cell_type": "markdown",
   "id": "87538bea",
   "metadata": {
    "code_folding": []
   },
   "source": [
    "### Learning Curve of ploy x with different 𝜆"
   ]
  },
  {
   "cell_type": "code",
   "execution_count": 270,
   "id": "7b60d4c1",
   "metadata": {
    "code_folding": [
     0
    ]
   },
   "outputs": [],
   "source": [
    "# Define a function 'ploy_map' to map the features into polynomial features and normalize them.\n",
    "# '*args' are the input features.\n",
    "# 'insert_ones' is a boolean flag to decide whether to insert a column of ones for the bias term.\n",
    "# 'power' is the degree of the polynomial.\n",
    "def ploy_map(*args,insert_ones=True,power):\n",
    "    # Define a function 'ploy_it' to map a single feature 'x' into polynomial features and normalize them.\n",
    "    def ploy_it(x):\n",
    "        # Use a dictionary comprehension to create a dictionary 'res' where the keys are the feature names and the values are the polynomial features.\n",
    "        res = {'f{}'.format(i):np.power(x.flatten(),i) for i in range(1,power+1) }\n",
    "        # Convert 'res' into a DataFrame, normalize the features, and convert the DataFrame back into a numpy array 'df'.\n",
    "        df = pd.DataFrame(res).apply(lambda col: (col-col.mean())/col.std()).to_numpy()\n",
    "        # If 'insert_ones' is True, insert a column of ones at the beginning of 'df' for the bias term.\n",
    "        if insert_ones:df = np.insert(df,obj=0,values=1,axis=1)\n",
    "        # Return 'df'.\n",
    "        return df\n",
    "    # Apply 'ploy_it' to each feature in '*args' and return the results as a list.\n",
    "    return [ploy_it(x) for x in args]"
   ]
  },
  {
   "cell_type": "code",
   "execution_count": 271,
   "id": "009129f7",
   "metadata": {},
   "outputs": [],
   "source": [
    "X,cvx,tex = gdata.get_allx()\n",
    "y,cvy,tey = gdata.get_ally()\n",
    "X,cvx,tex = ploy_map(X,cvx,tex,power=8)\n",
    "theta = get_theta(X.shape[1])"
   ]
  },
  {
   "cell_type": "code",
   "execution_count": 272,
   "id": "ee9f8b8f",
   "metadata": {
    "code_folding": [
     1
    ]
   },
   "outputs": [
    {
     "data": {
      "image/png": "[encoded data removed]",
      "text/plain": [
       "<Figure size 448x336 with 1 Axes>"
      ]
     },
     "metadata": {},
     "output_type": "display_data"
    }
   ],
   "source": [
    "errs = learning_curve(theta,X,y,cvx,cvy,lamda=0) \n",
    "def plot_lcurve(errs): \n",
    "    fig,axes = plt.subplots(dpi=70)\n",
    "    x = np.arange(1,len(errs[0])+1,step=1)\n",
    "    tr = errs[0]\n",
    "    cv =errs[1]\n",
    "    axes.plot(x,tr,\"r-\",label=\"Jtraining\")\n",
    "    axes.plot(x,cv,\"b-\",label=\"Jcv\")\n",
    "    axes.set_xlabel(\"Training set\")\n",
    "    axes.set_ylabel(\"err\")\n",
    "    axes.legend()\n",
    "    plt.plot()\n",
    "    return None\n",
    "plot_lcurve(errs)"
   ]
  },
  {
   "cell_type": "markdown",
   "id": "f92f01ee",
   "metadata": {},
   "source": [
    "### choice best 𝜆 with $J_{train}$ and $J_{cv}$"
   ]
  },
  {
   "cell_type": "code",
   "execution_count": 166,
   "id": "f8773880",
   "metadata": {
    "code_folding": []
   },
   "outputs": [],
   "source": [
    "# Define a function 'choice_btlamda' to compute the training and validation errors for different values of the regularization parameter 'lamda'.\n",
    "# 'lamdas' is a list of values for the regularization parameter.\n",
    "# 'theta' is the initial parameter vector.\n",
    "# 'X' and 'y' are the training data and labels.\n",
    "# 'cvx' and 'cvy' are the validation data and labels.\n",
    "def choice_btlamda(lamdas,theta,X,y,cvx,cvy):\n",
    "    # Initialize the lists 'tr_list' and 'cv_list' to store the training and validation errors, respectively.\n",
    "    tr_list = []\n",
    "    cv_list = []\n",
    "    # Define a function 'cpt_theta' to compute the parameter vector that minimizes the cost function.\n",
    "    def cpt_theta(theta,X,y,lamda):\n",
    "        # Use the 'minimize' function from the 'scipy.optimize' module to find the parameters that minimize the cost function.\n",
    "        res = opt.minimize(re_cost,x0=theta,\n",
    "                           args=(X,y,lamda),\n",
    "                           method='TNC',\n",
    "                           jac=True,\n",
    "                           options={'disp':True}) \n",
    "        return res.x\n",
    "    # For each value of 'lamda' in 'lamdas', compute the training and validation errors and append them to 'tr_list' and 'cv_list', respectively.\n",
    "    for lamda in lamdas:\n",
    "        # Compute the parameter vector 'cu_theta' that minimizes the cost function for the current value of 'lamda'.\n",
    "        cu_theta = cpt_theta(theta,X,y,lamda)\n",
    "        # Compute the training and validation errors 'jtrain' and 'jcv' for the current value of 'lamda'.\n",
    "        jtrain,_ = re_cost(cu_theta,X,y,0)\n",
    "        jcv ,_= re_cost(cu_theta,cvx,cvy,0)\n",
    "        # Append 'jtrain' and 'jcv' to 'tr_list' and 'cv_list', respectively.\n",
    "        tr_list.append(jtrain)\n",
    "        cv_list.append(jcv)\n",
    "    # Return 'tr_list' and 'cv_list'.\n",
    "    return tr_list, cv_list"
   ]
  },
  {
   "cell_type": "code",
   "execution_count": 172,
   "id": "ef2636ce",
   "metadata": {},
   "outputs": [],
   "source": [
    "lamdas = [0, 0.001, 0.003, 0.01, 0.03, 0.1, 0.3, 1, 3, 10]\n",
    "theta = get_theta(X.shape[1])\n",
    "errs = choice_btlamda(lamdas,theta,X,y,cvx,cvy)"
   ]
  },
  {
   "cell_type": "code",
   "execution_count": 173,
   "id": "b831d9b8",
   "metadata": {
    "code_folding": [
     0
    ]
   },
   "outputs": [
    {
     "data": {
      "image/png": "[encoded data removed]",
      "text/plain": [
       "<Figure size 448x336 with 1 Axes>"
      ]
     },
     "metadata": {},
     "output_type": "display_data"
    }
   ],
   "source": [
    "def plot_lcurve(errs,lamdas): \n",
    "    fig,axes = plt.subplots(dpi=70)\n",
    "    x = lamdas\n",
    "    tr = errs[0]\n",
    "    cv =errs[1]\n",
    "    axes.plot(x,tr,\"r-\",label=\"Jtraining\")\n",
    "    axes.plot(x,cv,\"b-\",label=\"Jcv\")\n",
    "    axes.set_xlabel(\"lamda\")\n",
    "    axes.set_ylabel(\"err\")\n",
    "    axes.legend()\n",
    "    plt.plot()\n",
    "    return None\n",
    "plot_lcurve(errs,lamdas)"
   ]
  },
  {
   "cell_type": "markdown",
   "id": "abc56257",
   "metadata": {},
   "source": [
    "### Get the $J_{test}$"
   ]
  },
  {
   "cell_type": "code",
   "execution_count": 188,
   "id": "cc1baf55",
   "metadata": {
    "code_folding": [
     0,
     1
    ]
   },
   "outputs": [
    {
     "data": {
      "text/plain": [
       "11.64392809759291"
      ]
     },
     "execution_count": 188,
     "metadata": {},
     "output_type": "execute_result"
    }
   ],
   "source": [
    "def get_jtest(theta,X,y,tex,tey,lamda):\n",
    "    def cpt_theta(theta,X,y,lamda):\n",
    "        res = opt.minimize(re_cost,x0=theta,\n",
    "                           args=(X,y,lamda),\n",
    "                           method='TNC',\n",
    "                           jac=True,\n",
    "                           options={'disp':True}) \n",
    "        return res.x\n",
    "    final_theta = cpt_theta(theta,X,y,lamda)\n",
    "    jtest, _ = re_cost(final_theta,tex,tey,lamda=0)\n",
    "    return jtest\n",
    "theta = get_theta(tex.shape[1])\n",
    "get_jtest(theta,X,y,tex,tey,lamda=3)"
   ]
  },
  {
   "cell_type": "code",
   "execution_count": 193,
   "id": "fa52280a",
   "metadata": {
    "code_folding": [
     1
    ]
   },
   "outputs": [
    {
     "name": "stdout",
     "output_type": "stream",
     "text": [
      "when lamda=0,Jtest == 10.047024076473404\n",
      "when lamda=0.001,Jtest == 11.050951936301145\n",
      "when lamda=0.003,Jtest == 11.260052610105248\n",
      "when lamda=0.01,Jtest == 10.878685963523106\n",
      "when lamda=0.03,Jtest == 10.022502843406501\n",
      "when lamda=0.1,Jtest == 8.63204962258897\n",
      "when lamda=0.3,Jtest == 7.33672362393468\n",
      "when lamda=1,Jtest == 7.4662936072294155\n",
      "when lamda=3,Jtest == 11.64392809759291\n",
      "when lamda=10,Jtest == 27.7150802657058\n"
     ]
    }
   ],
   "source": [
    "tcost = partial(get_jtest,theta=theta,X=X,y=y,tex=tex,tey=tey)\n",
    "for lamda in lamdas:\n",
    "    print(f'when lamda={lamda},Jtest == {tcost(lamda=lamda)}')"
   ]
  },
  {
   "cell_type": "markdown",
   "id": "1c22bccb",
   "metadata": {},
   "source": [
    "### Learning curve of ramdom"
   ]
  },
  {
   "cell_type": "code",
   "execution_count": 262,
   "id": "9a724714",
   "metadata": {
    "code_folding": [
     0,
     4
    ]
   },
   "outputs": [],
   "source": [
    "# Define a function 'rng_lcurve' to compute the training and validation errors for different sizes of the training set using random sampling.\n",
    "# 'theta' is the initial parameter vector.\n",
    "# 'X' and 'y' are the training data and labels.\n",
    "# 'cvx' and 'cvy' are the validation data and labels.\n",
    "# 'lamda' is the regularization parameter.\n",
    "def rng_lcurve(theta,X,y,cvx,cvy,lamda):\n",
    "    # Initialize the lists 'tr_list' and 'cv_list' to store the training and validation errors, respectively.\n",
    "    tr_list = []\n",
    "    cv_list = []\n",
    "    # Initialize a random number generator 'rng'.\n",
    "    rng = np.random.default_rng()\n",
    "    # Define a function 'cpt_theta' to compute the parameter vector that minimizes the cost function.\n",
    "    def cpt_theta(theta,X,y,lamda):\n",
    "        # Use the 'minimize' function from the 'scipy.optimize' module to find the parameters that minimize the cost function.\n",
    "        res = opt.minimize(re_cost,x0=theta,\n",
    "                           args=(X,y,lamda),\n",
    "                           method='TNC',\n",
    "                           jac=True,\n",
    "                           options={'disp':True}) \n",
    "        return res.x\n",
    "    # For each training example, compute the training and validation errors using random sampling and append them to 'tr_list' and 'cv_list', respectively.\n",
    "    for index, _ in enumerate(X):\n",
    "        acc_jtrain = 0\n",
    "        acc_cv = 0\n",
    "        # Repeat the process 50 times for each training example.\n",
    "        for i in range(50):\n",
    "            # Randomly select 'index+1' examples from the training and validation sets.\n",
    "            xy = rng.choice(np.hstack((X,y)),size=index+1,replace=False,axis=0)\n",
    "            vxy = rng.choice(np.hstack((cvx,cvy)),size=index+1,replace=False,axis=0)\n",
    "            # Split the selected examples into features 'xi' and 'vxi' and labels 'yi' and 'vyi'.\n",
    "            xi, yi = xy[:,:-1], xy[:,[-1]]\n",
    "            vxi, vyi = vxy[:,:-1], vxy[:,[-1]] \n",
    "            # Compute the parameter vector 'cu_theta' that minimizes the cost function for the selected training examples.\n",
    "            cu_theta = cpt_theta(theta,xi,yi,lamda)\n",
    "            # Compute the training and validation errors 'tem_jtrain' and 'tem_cv' for the selected training examples.\n",
    "            tem_jtrain, _ = re_cost(cu_theta,xi,yi,lamda=0)\n",
    "            tem_cv, _ = re_cost(cu_theta,vxi,vyi,lamda=0)\n",
    "            # Compute the average training and validation errors 'acc_jtrain' and 'acc_cv' over the 50 repetitions.\n",
    "            acc_jtrain = np.mean((acc_jtrain, tem_jtrain)) \n",
    "            acc_cv = np.mean((acc_cv, tem_cv))\n",
    "        # Append 'acc_jtrain' and 'acc_cv' to 'tr_list' and 'cv_list', respectively.\n",
    "        tr_list.append(acc_jtrain)\n",
    "        cv_list.append(acc_cv)\n",
    "    # Return 'tr_list' and 'cv_list'.\n",
    "    return tr_list, cv_list"
   ]
  },
  {
   "cell_type": "code",
   "execution_count": 269,
   "id": "2d0e57d8",
   "metadata": {
    "code_folding": [
     1
    ]
   },
   "outputs": [
    {
     "data": {
      "image/png": "[encoded data removed]",
      "text/plain": [
       "<Figure size 448x336 with 1 Axes>"
      ]
     },
     "metadata": {},
     "output_type": "display_data"
    }
   ],
   "source": [
    "errs = rng_lcurve(theta,X,y,cvx,cvy,lamda=0.01)\n",
    "def plot_lcurve(errs): \n",
    "    fig,axes = plt.subplots(dpi=70)\n",
    "    x = np.arange(1,len(errs[0])+1)\n",
    "    tr = errs[0]\n",
    "    cv =errs[1]\n",
    "    axes.plot(x,tr,\"r-\",label=\"Jtraining\")\n",
    "    axes.plot(x,cv,\"b-\",label=\"Jcv\")\n",
    "    axes.set_xlabel(\"lamda\")\n",
    "    axes.set_ylabel(\"err\")\n",
    "    axes.legend()\n",
    "    plt.plot()\n",
    "    return None\n",
    "plot_lcurve(errs)"
   ]
  },
  {
   "cell_type": "code",
   "execution_count": null,
   "id": "daa545b7",
   "metadata": {},
   "outputs": [],
   "source": []
  },
  {
   "cell_type": "code",
   "execution_count": null,
   "id": "84ce2c1f",
   "metadata": {},
   "outputs": [],
   "source": []
  },
  {
   "cell_type": "code",
   "execution_count": null,
   "id": "029c9c20",
   "metadata": {},
   "outputs": [],
   "source": []
  },
  {
   "cell_type": "code",
   "execution_count": null,
   "id": "44bb1657",
   "metadata": {},
   "outputs": [],
   "source": []
  },
  {
   "cell_type": "code",
   "execution_count": null,
   "id": "60c2b1ad",
   "metadata": {},
   "outputs": [],
   "source": []
  },
  {
   "cell_type": "code",
   "execution_count": null,
   "id": "f0b79156",
   "metadata": {},
   "outputs": [],
   "source": []
  },
  {
   "cell_type": "code",
   "execution_count": null,
   "id": "7e1223af",
   "metadata": {},
   "outputs": [],
   "source": []
  },
  {
   "cell_type": "code",
   "execution_count": null,
   "id": "be7a737d",
   "metadata": {},
   "outputs": [],
   "source": []
  },
  {
   "cell_type": "code",
   "execution_count": null,
   "id": "e213d9d4",
   "metadata": {},
   "outputs": [],
   "source": []
  },
  {
   "cell_type": "code",
   "execution_count": null,
   "id": "84628b4b",
   "metadata": {},
   "outputs": [],
   "source": []
  }
 ],
 "metadata": {
  "kernelspec": {
   "display_name": "Python 3 (ipykernel)",
   "language": "python",
   "name": "python3"
  },
  "language_info": {
   "codemirror_mode": {
    "name": "ipython",
    "version": 3
   },
   "file_extension": ".py",
   "mimetype": "text/x-python",
   "name": "python",
   "nbconvert_exporter": "python",
   "pygments_lexer": "ipython3",
   "version": "3.9.13"
  }
 },
 "nbformat": 4,
 "nbformat_minor": 5
}

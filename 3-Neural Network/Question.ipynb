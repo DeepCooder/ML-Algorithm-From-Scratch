{
 "cells": [
  {
   "cell_type": "markdown",
   "metadata": {},
   "source": [
    "\n",
    "# Description\n",
    "\n",
    "This programming exercise involves implementing **logistic regression** for multi-class classification to recognize handwritten digits, as well as implementing a **neural network** model for the same task.\n",
    "\n",
    "There are two parts:\n",
    "\n",
    "1. Implementing one-vs-all logistic regression\n",
    "    - Vectorize the cost function and gradient\n",
    "    - Train multiple logistic regression classifiers, one for each digit class\n",
    "    - Use the classifiers to make predictions on new images\n",
    "\n",
    "2. Implementing feedforward propagation for a pre-trained neural network \n",
    "    - Complete the `predict` function to produce predictions\n",
    "    - Neural network has 3 layers - input, hidden, and output\n",
    "    - Input layer has 400 units for the 20x20 pixel images\n",
    "    - Hidden layer has 25 units\n",
    "    - Output layer has 10 units, one per digit class\n",
    "\n",
    "# Theoretical Knowledge\n",
    "\n",
    "**Logistic Regression**\n",
    "- Cost function: \n",
    "$J(\\theta) = \\frac{1}{m} \\sum_{i=1}^m \\big[-y^{(i)} \\log(h_\\theta(x^{(i)})) - (1 - y^{(i)})\\log(1 - h_\\theta(x^{(i)}))\\big]$\n",
    "- Gradient:  \n",
    "$\\frac{\\partial J(\\theta)}{\\partial \\theta_j} = \\frac{1}{m}\\sum_{i=1}^m (h_\\theta(x^{(i)}) - y^{(i)})x_j^{(i)}$\n",
    "\n",
    "**Neural Networks**\n",
    "- Forward propagation to compute activation $a^{(l)}$ and hypothesis output $h_\\theta(x)$\n",
    "\n",
    "# Key Functions\n",
    "\n",
    "- `lrCostFunction` - Logistic regression cost \n",
    "- `oneVsAll` - Train one classifier per class\n",
    "- `predictOneVsAll` - Make predictions with logistic regression classifiers  \n",
    "- `predict` - Make predictions with neural network\n",
    "\n",
    "# Data\n",
    "\n",
    "- `ex3data1.mat` - Training images \n",
    "- `ex3weights.mat` - Pre-trained neural network parameters\n",
    "\n",
    "# Steps\n",
    "\n",
    "1. Vectorize `lrCostFunction`\n",
    "2. Implement one-vs-all classifier training in `oneVsAll` \n",
    "3. Implement prediction with the classifiers in `predictOneVsAll`\n",
    "4. Complete feedforward propagation prediction in neural network `predict` function"
   ]
  },
  {
   "cell_type": "markdown",
   "metadata": {},
   "source": []
  }
 ],
 "metadata": {
  "kernelspec": {
   "display_name": "base",
   "language": "python",
   "name": "python3"
  },
  "language_info": {
   "codemirror_mode": {
    "name": "ipython",
    "version": 3
   },
   "file_extension": ".py",
   "mimetype": "text/x-python",
   "name": "python",
   "nbconvert_exporter": "python",
   "pygments_lexer": "ipython3",
   "version": "3.11.5"
  }
 },
 "nbformat": 4,
 "nbformat_minor": 2
}

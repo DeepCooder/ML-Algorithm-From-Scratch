{
 "cells": [
  {
   "cell_type": "code",
   "execution_count": 2,
   "id": "f9985c7b",
   "metadata": {},
   "outputs": [],
   "source": [
    "import numpy as np\n",
    "import pandas as pd\n",
    "import matplotlib.pyplot as plt\n",
    "from scipy import optimize\n",
    "# Import the 'loadmat' function from scipy's io module.\n",
    "# This function allows us to read MATLAB files in Python.\n",
    "from scipy.io import loadmat"
   ]
  },
  {
   "cell_type": "code",
   "execution_count": 41,
   "id": "72f667b7",
   "metadata": {},
   "outputs": [
    {
     "name": "stdout",
     "output_type": "stream",
     "text": [
      "{'__header__': b'MATLAB 5.0 MAT-file, Platform: GLNXA64, Created on: Sun Oct 16 13:09:09 2011', '__version__': '1.0', '__globals__': [], 'X': array([[0., 0., 0., ..., 0., 0., 0.],\n",
      "       [0., 0., 0., ..., 0., 0., 0.],\n",
      "       [0., 0., 0., ..., 0., 0., 0.],\n",
      "       ...,\n",
      "       [0., 0., 0., ..., 0., 0., 0.],\n",
      "       [0., 0., 0., ..., 0., 0., 0.],\n",
      "       [0., 0., 0., ..., 0., 0., 0.]]), 'y': array([[10],\n",
      "       [10],\n",
      "       [10],\n",
      "       ...,\n",
      "       [ 9],\n",
      "       [ 9],\n",
      "       [ 9]], dtype=uint8)}\n"
     ]
    }
   ],
   "source": [
    "path = r\"G:\\AI学习资料\\machine-learning-2014\\机器学习课程2014源代码\\python代码\\ex3-neural network\\ex3data1.mat\"\n",
    "raw_data = loadmat(path)\n",
    "print(raw_data)"
   ]
  },
  {
   "cell_type": "code",
   "execution_count": 71,
   "id": "9eea4326",
   "metadata": {
    "code_folding": [
     0,
     4,
     5
    ]
   },
   "outputs": [],
   "source": [
    "# Define a function 'sigmoid' to compute the sigmoid of 'z'.\n",
    "def sigmoid(z):\n",
    "    return 1/(1+np.exp(-z))\n",
    "\n",
    "# Define a function 'get_x' to get the feature matrix 'X' from 'raw_data'.\n",
    "# 'raw_data' is a dictionary containing the data.\n",
    "def get_x(raw_data):\n",
    "    # 'X' is the feature matrix.\n",
    "    X = raw_data[\"X\"]\n",
    "    # Insert a column of ones at the beginning of 'X' for the intercept term.\n",
    "    X = np.insert(X,obj=0,values=1,axis=1)\n",
    "    return X\n",
    "\n",
    "# Define a class 'Get_y' to get the target variable 'y' for a specific class.\n",
    "class Get_y(object):\n",
    "    # The constructor takes 'raw_data' as an argument and stores it in the 'data' attribute.\n",
    "    def __init__(self, raw_data):\n",
    "        self.data = raw_data\n",
    "    # Define a method 'get_y' to get the target variable 'y' for the class 'num'.\n",
    "    # 'num' is the class label.\n",
    "    def get_y(self, num):\n",
    "        # 'y' is the target variable.\n",
    "        y = self.data[\"y\"]\n",
    "        # Replace 10 with 0 in 'y'.\n",
    "        y[y==10]=0\n",
    "        # Return 'y' as a binary variable where 1 indicates the class 'num' and 0 indicates the other classes.\n",
    "        return np.where(y==num,1,0)\n",
    "\n",
    "# 'X' is assigned the feature matrix obtained from 'raw_data'.\n",
    "X = get_x(raw_data)\n",
    "# 'Y' is an instance of the 'Get_y' class initialized with 'raw_data'.\n",
    "Y = Get_y(raw_data)"
   ]
  },
  {
   "cell_type": "code",
   "execution_count": 67,
   "id": "450d0a48",
   "metadata": {},
   "outputs": [
    {
     "name": "stdout",
     "output_type": "stream",
     "text": [
      "X.shape: (5000, 401),  Y.get_y(0).shape: (5000, 1)\n"
     ]
    }
   ],
   "source": [
    "print(f\"X.shape: {X.shape},  Y.get_y(0).shape: {Y.get_y(0).shape}\")"
   ]
  },
  {
   "cell_type": "code",
   "execution_count": 69,
   "id": "30f04a34",
   "metadata": {},
   "outputs": [
    {
     "data": {
      "text/plain": [
       "(401,)"
      ]
     },
     "execution_count": 69,
     "metadata": {},
     "output_type": "execute_result"
    }
   ],
   "source": [
    "# 'theta' is initialized as a zero vector with the same length as the number of features in 'X'.\n",
    "theta = np.zeros(X.shape[1])\n",
    "theta.shape"
   ]
  },
  {
   "cell_type": "code",
   "execution_count": 86,
   "id": "bb8d15a7",
   "metadata": {
    "code_folding": [
     0,
     8
    ]
   },
   "outputs": [],
   "source": [
    "# Define a function 'cost' to compute the regularized cost function for logistic regression.\n",
    "# 'theta' is the parameter vector.\n",
    "# 'X' is the feature matrix.\n",
    "# 'Y' is an instance of the 'Get_y' class.\n",
    "# 'y_num' is the class label.\n",
    "# 'lamda' is the regularization parameter.\n",
    "def cost(theta,X,Y,y_num,lamda=1):\n",
    "    # 'm' is the number of training examples.\n",
    "    m = X.shape[0]\n",
    "    # 'y' is the target variable for the class 'y_num'.\n",
    "    y = Y.get_y(y_num)\n",
    "    # Check if 'theta' is a one-dimensional array.\n",
    "    # If it is, convert it to a two-dimensional array by adding an extra dimension.\n",
    "    if theta.ndim==1: theta = theta[:,np.newaxis]\n",
    "    # Compute the cost function.\n",
    "    cost_value = -( y*np.log(sigmoid(X@theta)) + (1-y)*np.log(1-sigmoid(X@theta)) ).mean()\n",
    "    # Compute the regularization term.\n",
    "    cost_regular = ((lamda/(2*m))*(theta[1:,:]**2).sum()\n",
    "    # Compute the regularized cost function.\n",
    "    cu_value = cost_value + cost_regular\n",
    "    # Return the regularized cost function.\n",
    "    return cu_value\n",
    "\n",
    "# Define a function 'gradient' to compute the gradient of the regularized cost function for logistic regression.\n",
    "def gradient(theta,X,Y,y_num,lamda=1):\n",
    "    # 'm' is the number of training examples.\n",
    "    m = X.shape[0]\n",
    "    # 'y' is the target variable for the class 'y_num'.\n",
    "    y = Y.get_y(y_num)\n",
    "    # Check if 'theta' is a one-dimensional array.\n",
    "    # If it is, convert it to a two-dimensional array by adding an extra dimension.\n",
    "    if theta.ndim==1: theta = theta[:,np.newaxis]\n",
    "    # Compute the gradient for the intercept term.\n",
    "    theta_0 = (sigmoid(X@theta)-y).mean()\n",
    "    # Compute the gradient for the other terms.\n",
    "    theta = (1/m)*(X.T@(sigmoid(X@theta)-y)) + (lamda/m)*theta\n",
    "    # Replace the gradient for the intercept term.\n",
    "    theta[0,:] = theta_0\n",
    "    # Return the gradient as a one-dimensional array.\n",
    "    return theta.flatten()"
   ]
  },
  {
   "cell_type": "code",
   "execution_count": 95,
   "id": "bfddb6f7",
   "metadata": {},
   "outputs": [],
   "source": [
    "# Initialize an empty dictionary 'theta_dic' to store the parameter vectors for each class.\n",
    "theta_dic = {}\n",
    "\n",
    "# Loop over the classes from 0 to 9.\n",
    "for i in range(10):\n",
    "    # Use the 'minimize' function from scipy's optimize module to find the parameters that minimize the cost function.\n",
    "    # 'fun' is the cost function to be minimized.\n",
    "    # 'args' are additional arguments to the cost function, which are 'X', 'Y', and 'i' in this case.\n",
    "    # 'x0' is the initial guess for the parameters, which is 'theta' in this case.\n",
    "    # 'method' is the optimization method to be used, which is 'Newton-CG' in this case.\n",
    "    # 'jac' is the function that computes the gradient vector, which is 'gradient' in this case.\n",
    "    res = optimize.minimize(cost, args=(X, Y, i), x0=theta, method='Newton-CG', jac=gradient)\n",
    "    # Store the final parameter vector in 'theta_dic' with the class label as the key.\n",
    "    theta_dic[i] = res.x"
   ]
  },
  {
   "cell_type": "code",
   "execution_count": 121,
   "id": "50096918",
   "metadata": {
    "code_folding": [
     1
    ]
   },
   "outputs": [],
   "source": [
    "# Import the 'classification_report' function from sklearn's metrics module.\n",
    "# This function builds a text report showing the main classification metrics.\n",
    "from sklearn.metrics import classification_report\n",
    "\n",
    "# Define a function 'y_pred' to predict the class labels for the examples in 'X'.\n",
    "# 'theta_dic' is a dictionary containing the parameter vectors for each class.\n",
    "# 'X' is the feature matrix.\n",
    "def y_pred(theta_dic, X):\n",
    "    # Convert 'theta_dic' to a data frame, then to a numpy array, and finally transpose it to get a matrix where each row is a parameter vector.\n",
    "    theta_matrix = pd.DataFrame(theta_dic).to_numpy().T\n",
    "    # Compute the product of 'theta_matrix' and 'X' transposed.\n",
    "    theta_x = theta_matrix@X.T\n",
    "    # Find the index of the maximum value in each column of 'theta_x'.\n",
    "    # This is the predicted class label for each example in 'X'.\n",
    "    y_index = np.argmax(theta_x,axis=0)\n",
    "    # Return the predicted class labels.\n",
    "    return y_index\n",
    "\n",
    "# 'y_p' is assigned the predicted class labels for the examples in 'X'.\n",
    "y_p = y_pred(theta_dic,X)"
   ]
  },
  {
   "cell_type": "code",
   "execution_count": 124,
   "id": "844c2838",
   "metadata": {},
   "outputs": [
    {
     "name": "stdout",
     "output_type": "stream",
     "text": [
      "              precision    recall  f1-score   support\n",
      "\n",
      "           0       0.97      0.99      0.98       500\n",
      "           1       0.95      0.99      0.97       500\n",
      "           2       0.95      0.92      0.93       500\n",
      "           3       0.95      0.91      0.93       500\n",
      "           4       0.95      0.95      0.95       500\n",
      "           5       0.92      0.92      0.92       500\n",
      "           6       0.97      0.98      0.97       500\n",
      "           7       0.95      0.95      0.95       500\n",
      "           8       0.93      0.92      0.92       500\n",
      "           9       0.92      0.92      0.92       500\n",
      "\n",
      "    accuracy                           0.94      5000\n",
      "   macro avg       0.94      0.94      0.94      5000\n",
      "weighted avg       0.94      0.94      0.94      5000\n",
      "\n"
     ]
    }
   ],
   "source": [
    "result = classification_report(raw_data[\"y\"].flatten(),y_p)\n",
    "print(result)"
   ]
  },
  {
   "cell_type": "code",
   "execution_count": null,
   "id": "1a0b0861",
   "metadata": {},
   "outputs": [],
   "source": []
  },
  {
   "cell_type": "code",
   "execution_count": null,
   "id": "7a487f67",
   "metadata": {},
   "outputs": [],
   "source": []
  },
  {
   "cell_type": "code",
   "execution_count": null,
   "id": "b230e776",
   "metadata": {},
   "outputs": [],
   "source": []
  },
  {
   "cell_type": "code",
   "execution_count": null,
   "id": "58d49158",
   "metadata": {},
   "outputs": [],
   "source": []
  },
  {
   "cell_type": "code",
   "execution_count": null,
   "id": "0700ebd0",
   "metadata": {},
   "outputs": [],
   "source": []
  },
  {
   "cell_type": "code",
   "execution_count": null,
   "id": "385ef672",
   "metadata": {},
   "outputs": [],
   "source": []
  },
  {
   "cell_type": "code",
   "execution_count": null,
   "id": "561fe53a",
   "metadata": {},
   "outputs": [],
   "source": []
  },
  {
   "cell_type": "code",
   "execution_count": null,
   "id": "629ccd3f",
   "metadata": {},
   "outputs": [],
   "source": []
  },
  {
   "cell_type": "code",
   "execution_count": null,
   "id": "a5d229f3",
   "metadata": {},
   "outputs": [],
   "source": []
  },
  {
   "cell_type": "code",
   "execution_count": null,
   "id": "0db8c10d",
   "metadata": {},
   "outputs": [],
   "source": []
  },
  {
   "cell_type": "code",
   "execution_count": null,
   "id": "6a2659a6",
   "metadata": {},
   "outputs": [],
   "source": []
  },
  {
   "cell_type": "code",
   "execution_count": null,
   "id": "9f1b0127",
   "metadata": {},
   "outputs": [],
   "source": []
  },
  {
   "cell_type": "code",
   "execution_count": null,
   "id": "a9af8ade",
   "metadata": {},
   "outputs": [],
   "source": []
  },
  {
   "cell_type": "code",
   "execution_count": null,
   "id": "818b2b00",
   "metadata": {},
   "outputs": [],
   "source": []
  },
  {
   "cell_type": "code",
   "execution_count": null,
   "id": "e6e1e47e",
   "metadata": {},
   "outputs": [],
   "source": []
  },
  {
   "cell_type": "code",
   "execution_count": null,
   "id": "cfa58a39",
   "metadata": {},
   "outputs": [],
   "source": []
  },
  {
   "cell_type": "code",
   "execution_count": null,
   "id": "6d197b9b",
   "metadata": {},
   "outputs": [],
   "source": []
  },
  {
   "cell_type": "code",
   "execution_count": null,
   "id": "50259186",
   "metadata": {},
   "outputs": [],
   "source": []
  },
  {
   "cell_type": "code",
   "execution_count": null,
   "id": "c6b6cce1",
   "metadata": {},
   "outputs": [],
   "source": []
  },
  {
   "cell_type": "code",
   "execution_count": null,
   "id": "2b5c0f9d",
   "metadata": {},
   "outputs": [],
   "source": []
  },
  {
   "cell_type": "code",
   "execution_count": null,
   "id": "036b6ec8",
   "metadata": {},
   "outputs": [],
   "source": []
  },
  {
   "cell_type": "code",
   "execution_count": null,
   "id": "0f2c40b3",
   "metadata": {},
   "outputs": [],
   "source": []
  },
  {
   "cell_type": "code",
   "execution_count": null,
   "id": "cb5d9fc6",
   "metadata": {},
   "outputs": [],
   "source": []
  },
  {
   "cell_type": "code",
   "execution_count": null,
   "id": "8deca0e9",
   "metadata": {},
   "outputs": [],
   "source": []
  },
  {
   "cell_type": "code",
   "execution_count": null,
   "id": "59769677",
   "metadata": {},
   "outputs": [],
   "source": []
  },
  {
   "cell_type": "code",
   "execution_count": null,
   "id": "74adb4f1",
   "metadata": {},
   "outputs": [],
   "source": []
  },
  {
   "cell_type": "code",
   "execution_count": null,
   "id": "56f32c6d",
   "metadata": {},
   "outputs": [],
   "source": []
  }
 ],
 "metadata": {
  "kernelspec": {
   "display_name": "Python 3 (ipykernel)",
   "language": "python",
   "name": "python3"
  },
  "language_info": {
   "codemirror_mode": {
    "name": "ipython",
    "version": 3
   },
   "file_extension": ".py",
   "mimetype": "text/x-python",
   "name": "python",
   "nbconvert_exporter": "python",
   "pygments_lexer": "ipython3",
   "version": "3.9.13"
  }
 },
 "nbformat": 4,
 "nbformat_minor": 5
}

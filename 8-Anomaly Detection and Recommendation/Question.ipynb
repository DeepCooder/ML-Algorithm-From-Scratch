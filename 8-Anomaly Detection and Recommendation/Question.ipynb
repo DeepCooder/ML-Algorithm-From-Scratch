{
 "cells": [
  {
   "cell_type": "markdown",
   "metadata": {},
   "source": [
    "# Exercise 1: Anomaly Detection\n",
    "\n",
    "## Goal\n",
    "Implement an anomaly detection algorithm to detect failing servers on a network based on latency and throughput features. A Gaussian model will be fit to the data to estimate normal behavior. \n",
    "\n",
    "## Functions to Implement\n",
    "- `estimateGaussian(X)`: Estimate parameters μ and σ^2 of a Gaussian distribution that fits the data X\n",
    "- `selectThreshold(pval, yval)`: Select a threshold ε for anomaly detection that maximizes the F1 score on a cross validation set\n",
    "\n",
    "## Data \n",
    "- `ex8data1.mat`: 2D dataset for visualizing Gaussian fit\n",
    "- `ex8data2.mat`: 307 11-dimensional examples for anomaly detection\n",
    "\n",
    "## Steps\n",
    "1. Implement `estimateGaussian` to estimate Gaussian parameters\n",
    "2. Visualize contours of the Gaussian fit\n",
    "3. Implement `selectThreshold` to select an anomaly threshold ε based on the F1 score\n",
    "4. Run anomaly detection on the higher dimensional dataset in `ex8data2.mat`\n",
    "\n",
    "# Exercise 2: Recommender Systems\n",
    "\n",
    "## Goal \n",
    "Implement a collaborative filtering algorithm to provide movie recommendations by predicting user movie ratings.\n",
    "\n",
    "## Functions to Implement\n",
    "- `cofiCostFunc`: Compute cost and gradient of collaborative filtering objective \n",
    "\n",
    "## Data\n",
    "- `ex8_movies.mat`: Movie ratings data \n",
    "- `movie_idx.txt`: List of movie titles\n",
    "\n",
    "## Steps\n",
    "1. Implement collaborative filtering cost function \n",
    "2. Implement gradient computation\n",
    "3. Add regularization to cost and gradient computations\n",
    "4. Learn model parameters Θ and X based on movie ratings data \n",
    "5. Use learned parameters to predict movie ratings and provide recommendations\n"
   ]
  },
  {
   "cell_type": "markdown",
   "metadata": {},
   "source": []
  }
 ],
 "metadata": {
  "kernelspec": {
   "display_name": "base",
   "language": "python",
   "name": "python3"
  },
  "language_info": {
   "name": "python",
   "version": "3.11.5"
  }
 },
 "nbformat": 4,
 "nbformat_minor": 2
}

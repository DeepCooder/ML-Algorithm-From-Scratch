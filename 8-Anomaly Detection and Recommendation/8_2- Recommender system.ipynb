{
 "cells": [
  {
   "cell_type": "code",
   "execution_count": 105,
   "id": "56b78dff",
   "metadata": {},
   "outputs": [],
   "source": [
    "import pandas as pd\n",
    "import numpy as np\n",
    "import matplotlib.pyplot as plt\n",
    "from scipy.io import loadmat"
   ]
  },
  {
   "cell_type": "code",
   "execution_count": 144,
   "id": "a0e047ba",
   "metadata": {},
   "outputs": [],
   "source": [
    "path_xt = r\"G:\\AI学习资料\\MachineLearningExercise\\machine-learning-ex8\\ex8\\ex8_movieParams.mat\"\n",
    "path = r\"G:\\AI学习资料\\MachineLearningExercise\\machine-learning-ex8\\ex8\\ex8_movies.mat\"\n",
    "x_theta = loadmat(path_xt)\n",
    "raw_data = loadmat(path)"
   ]
  },
  {
   "cell_type": "code",
   "execution_count": 145,
   "id": "c7e38c83",
   "metadata": {},
   "outputs": [
    {
     "data": {
      "text/plain": [
       "['(1682, 10)', '(943, 10)', '(1682, 943)', '(1682, 943)']"
      ]
     },
     "execution_count": 145,
     "metadata": {},
     "output_type": "execute_result"
    }
   ],
   "source": [
    "X, Theta, Y, R = x_theta[\"X\"], x_theta['Theta'], raw_data['Y'], raw_data['R']\n",
    "[f'{item.shape}' for item in [X, Theta, Y, R]]"
   ]
  },
  {
   "cell_type": "code",
   "execution_count": 146,
   "id": "5b583e72",
   "metadata": {
    "code_folding": []
   },
   "outputs": [],
   "source": [
    "# Define a function 'ser_data' that takes two parameters 'X' and 'Theta'.\n",
    "# This function flattens 'X' and 'Theta' and concatenates them horizontally.\n",
    "# 'X' and 'Theta' are matrices.\n",
    "ser_data = lambda X, Theta: np.hstack((X.ravel(), Theta.ravel()))\n",
    "\n",
    "# Define a function 'cofiCostFunc' that calculates the cost and gradients for collaborative filtering.\n",
    "# This function takes five parameters:\n",
    "# 'X_Theta' is a flattened array that contains 'X' and 'Theta'.\n",
    "# 'Y' is a matrix that contains user ratings for each movie.\n",
    "# 'R' is a binary-valued indicator matrix, where R(i, j) = 1 if user j gave a rating to movie i, and R(i, j) = 0 otherwise.\n",
    "# 'num_fea' is the number of features.\n",
    "# 'lamda' is the regularization parameter.\n",
    "def cofiCostFunc(X_Theta, Y, R, num_fea=10, lamda=1):\n",
    "    # Split 'X_Theta' into 'X_r' and 'Theta_r'.\n",
    "    X_r, Theta_r = np.hsplit(X_Theta, [Y.shape[0] * num_fea])\n",
    "    # Reshape 'X_r' and 'Theta_r' into 'X' and 'Theta'.\n",
    "    X = X_r.reshape(Y.shape[0], num_fea)\n",
    "    Theta = Theta_r.reshape(Y.shape[1], num_fea)\n",
    "    # Calculate the cost.\n",
    "    cost = (1 / 2) * np.sum(\n",
    "        (X @ Theta.T - Y)**2 * R) + (lamda / 2) * (np.sum(Theta**2) +\n",
    "                                                   np.sum(X**2))\n",
    "    # Calculate the gradient for 'Theta'.\n",
    "    theta_gra = (Theta @ X.T - Y.T) * R.T @ X + lamda * Theta\n",
    "    # Calculate the gradient for 'X'.\n",
    "    x_gra = (X @ Theta.T - Y) * R @ Theta + lamda * X\n",
    "    # Return the cost and the gradients.\n",
    "    return cost, ser_data(x_gra.ravel(),theta_gra.ravel())"
   ]
  },
  {
   "cell_type": "code",
   "execution_count": 147,
   "id": "4a56037f",
   "metadata": {},
   "outputs": [
    {
     "data": {
      "text/plain": [
       "(32520.682450229557,\n",
       " array([-5.21315594,  2.0591285 , -5.68148384, ..., -5.27650042,\n",
       "         4.22109195,  2.11819114]))"
      ]
     },
     "execution_count": 147,
     "metadata": {},
     "output_type": "execute_result"
    }
   ],
   "source": [
    "test = ser_data(X, Theta)\n",
    "cofiCostFunc(test, Y, R)"
   ]
  },
  {
   "cell_type": "markdown",
   "id": "b451172d",
   "metadata": {},
   "source": [
    "#### parse `movie_id.txt`"
   ]
  },
  {
   "cell_type": "code",
   "execution_count": 148,
   "id": "2beca61f",
   "metadata": {},
   "outputs": [],
   "source": [
    "movie_list = []\n",
    "p = r\"G:\\AI学习资料\\MachineLearningExercise\\machine-learning-ex8\\ex8\\movie_ids.txt\"\n",
    "with open(p, encoding='latin-1') as f:\n",
    "    for line in f:\n",
    "        tokens = line.strip().split(' ')\n",
    "        movie_list.append(' '.join(tokens[1:]))\n",
    "\n",
    "movie_list = np.array(movie_list)"
   ]
  },
  {
   "cell_type": "markdown",
   "id": "6f751b35",
   "metadata": {},
   "source": [
    "#### reproduce my ratings"
   ]
  },
  {
   "cell_type": "code",
   "execution_count": 149,
   "id": "d3657c83",
   "metadata": {},
   "outputs": [],
   "source": [
    "ratings = np.zeros(1682)\n",
    "\n",
    "ratings[0] = 4\n",
    "ratings[6] = 3\n",
    "ratings[11] = 5\n",
    "ratings[53] = 4\n",
    "ratings[63] = 5\n",
    "ratings[65] = 3\n",
    "ratings[68] = 5\n",
    "ratings[97] = 2\n",
    "ratings[182] = 4\n",
    "ratings[225] = 5\n",
    "ratings[354] = 5"
   ]
  },
  {
   "cell_type": "markdown",
   "id": "fe803036",
   "metadata": {},
   "source": [
    "#### prepare data"
   ]
  },
  {
   "cell_type": "code",
   "execution_count": 150,
   "id": "b0ebe004",
   "metadata": {},
   "outputs": [
    {
     "data": {
      "text/plain": [
       "(1682, 944)"
      ]
     },
     "execution_count": 150,
     "metadata": {},
     "output_type": "execute_result"
    }
   ],
   "source": [
    "Y = np.insert(Y, 0, ratings, axis=1)  # now I become user 0\n",
    "Y.shape"
   ]
  },
  {
   "cell_type": "code",
   "execution_count": 151,
   "id": "d5915019",
   "metadata": {},
   "outputs": [],
   "source": [
    "Y_norm = Y - Y.mean()"
   ]
  },
  {
   "cell_type": "code",
   "execution_count": 152,
   "id": "c7a3dbc3",
   "metadata": {},
   "outputs": [
    {
     "data": {
      "text/plain": [
       "(1682, 944)"
      ]
     },
     "execution_count": 152,
     "metadata": {},
     "output_type": "execute_result"
    }
   ],
   "source": [
    "R = np.insert(R, 0, ratings != 0, axis=1)\n",
    "R.shape"
   ]
  },
  {
   "cell_type": "code",
   "execution_count": 153,
   "id": "2b52b5fa",
   "metadata": {},
   "outputs": [],
   "source": [
    "n_features = 50\n",
    "n_movie, n_user = Y.shape\n",
    "lamda = 10"
   ]
  },
  {
   "cell_type": "code",
   "execution_count": 154,
   "id": "783b1370",
   "metadata": {},
   "outputs": [
    {
     "data": {
      "text/plain": [
       "((1682, 50), (944, 50))"
      ]
     },
     "execution_count": 154,
     "metadata": {},
     "output_type": "execute_result"
    }
   ],
   "source": [
    "X = np.random.standard_normal((n_movie, n_features))\n",
    "theta = np.random.standard_normal((n_user, n_features))\n",
    "\n",
    "X.shape, theta.shape"
   ]
  },
  {
   "cell_type": "code",
   "execution_count": 155,
   "id": "63322452",
   "metadata": {},
   "outputs": [],
   "source": [
    "param = ser_data(X, theta)"
   ]
  },
  {
   "cell_type": "code",
   "execution_count": 156,
   "id": "76ddb9ba",
   "metadata": {},
   "outputs": [],
   "source": [
    "import scipy.optimize as opt"
   ]
  },
  {
   "cell_type": "code",
   "execution_count": 157,
   "id": "1d803fd6",
   "metadata": {},
   "outputs": [],
   "source": [
    "res = opt.minimize(cofiCostFunc,x0=param,jac=True,args=(Y_norm,R,n_features,lamda),method='TNC')"
   ]
  },
  {
   "cell_type": "code",
   "execution_count": 158,
   "id": "35b262ad",
   "metadata": {},
   "outputs": [
    {
     "data": {
      "text/plain": [
       "     fun: 64721.49781509444\n",
       "     jac: array([ 6.33839733e-07, -2.68648274e-06,  3.96286533e-06, ...,\n",
       "       -1.02278222e-07, -3.24327682e-07,  6.57757555e-07])\n",
       " message: 'Converged (|f_n-f_(n-1)| ~= 0)'\n",
       "    nfev: 3506\n",
       "     nit: 115\n",
       "  status: 1\n",
       " success: True\n",
       "       x: array([ 0.037558  , -0.08700081,  0.01610468, ..., -0.25265707,\n",
       "        0.03572147, -0.65381112])"
      ]
     },
     "execution_count": 158,
     "metadata": {},
     "output_type": "execute_result"
    }
   ],
   "source": [
    "res"
   ]
  },
  {
   "cell_type": "code",
   "execution_count": 159,
   "id": "07c668a5",
   "metadata": {},
   "outputs": [],
   "source": [
    "X_r, Theta_r = np.hsplit(res.x,[Y.shape[0]*n_features])\n",
    "X = X_r.reshape(Y.shape[0], n_features)\n",
    "Theta = Theta_r.reshape(Y.shape[1], n_features)"
   ]
  },
  {
   "cell_type": "code",
   "execution_count": 160,
   "id": "2f0db448",
   "metadata": {},
   "outputs": [
    {
     "data": {
      "text/plain": [
       "((1682, 50), (944, 50))"
      ]
     },
     "execution_count": 160,
     "metadata": {},
     "output_type": "execute_result"
    }
   ],
   "source": [
    "X.shape, Theta.shape"
   ]
  },
  {
   "cell_type": "code",
   "execution_count": 161,
   "id": "f8beadd7",
   "metadata": {},
   "outputs": [
    {
     "data": {
      "text/plain": [
       "(1682,)"
      ]
     },
     "execution_count": 161,
     "metadata": {},
     "output_type": "execute_result"
    }
   ],
   "source": [
    "prediction = X @ Theta.T\n",
    "my_preds = prediction[:, 0] + Y.mean()\n",
    "idx = np.argsort(my_preds)[::-1]  # Descending order\n",
    "idx.shape"
   ]
  },
  {
   "cell_type": "code",
   "execution_count": 162,
   "id": "124dbd58",
   "metadata": {},
   "outputs": [
    {
     "data": {
      "text/plain": [
       "array([4.12532998, 4.04414791, 3.99324764, 3.91902345, 3.81692185,\n",
       "       3.81555642, 3.76602306, 3.76323108, 3.75904202, 3.75076388])"
      ]
     },
     "execution_count": 162,
     "metadata": {},
     "output_type": "execute_result"
    }
   ],
   "source": [
    "# top ten idx\n",
    "my_preds[idx][:10]"
   ]
  },
  {
   "cell_type": "code",
   "execution_count": 163,
   "id": "72c409f7",
   "metadata": {},
   "outputs": [
    {
     "name": "stdout",
     "output_type": "stream",
     "text": [
      "Titanic (1997)\n",
      "Star Wars (1977)\n",
      "Shawshank Redemption, The (1994)\n",
      "Forrest Gump (1994)\n",
      "Raiders of the Lost Ark (1981)\n",
      "Braveheart (1995)\n",
      "Return of the Jedi (1983)\n",
      "Usual Suspects, The (1995)\n",
      "Godfather, The (1972)\n",
      "Schindler's List (1993)\n"
     ]
    }
   ],
   "source": [
    "for m in movie_list[idx][:10]:\n",
    "    print(m)"
   ]
  },
  {
   "cell_type": "code",
   "execution_count": null,
   "id": "8e794104",
   "metadata": {},
   "outputs": [],
   "source": []
  },
  {
   "cell_type": "code",
   "execution_count": null,
   "id": "63c1a226",
   "metadata": {},
   "outputs": [],
   "source": []
  },
  {
   "cell_type": "code",
   "execution_count": null,
   "id": "a060fff1",
   "metadata": {},
   "outputs": [],
   "source": []
  },
  {
   "cell_type": "code",
   "execution_count": null,
   "id": "305fd512",
   "metadata": {},
   "outputs": [],
   "source": []
  },
  {
   "cell_type": "code",
   "execution_count": null,
   "id": "4d4a96c9",
   "metadata": {},
   "outputs": [],
   "source": []
  },
  {
   "cell_type": "code",
   "execution_count": null,
   "id": "3333509b",
   "metadata": {},
   "outputs": [],
   "source": []
  }
 ],
 "metadata": {
  "kernelspec": {
   "display_name": "Python 3 (ipykernel)",
   "language": "python",
   "name": "python3"
  },
  "language_info": {
   "codemirror_mode": {
    "name": "ipython",
    "version": 3
   },
   "file_extension": ".py",
   "mimetype": "text/x-python",
   "name": "python",
   "nbconvert_exporter": "python",
   "pygments_lexer": "ipython3",
   "version": "3.9.13"
  },
  "varInspector": {
   "cols": {
    "lenName": 16,
    "lenType": 16,
    "lenVar": 40
   },
   "kernels_config": {
    "python": {
     "delete_cmd_postfix": "",
     "delete_cmd_prefix": "del ",
     "library": "var_list.py",
     "varRefreshCmd": "print(var_dic_list())"
    },
    "r": {
     "delete_cmd_postfix": ") ",
     "delete_cmd_prefix": "rm(",
     "library": "var_list.r",
     "varRefreshCmd": "cat(var_dic_list()) "
    }
   },
   "types_to_exclude": [
    "module",
    "function",
    "builtin_function_or_method",
    "instance",
    "_Feature"
   ],
   "window_display": false
  }
 },
 "nbformat": 4,
 "nbformat_minor": 5
}

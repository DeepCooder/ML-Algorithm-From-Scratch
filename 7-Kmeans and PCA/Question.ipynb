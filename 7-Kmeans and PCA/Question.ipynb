{
 "cells": [
  {
   "cell_type": "markdown",
   "metadata": {},
   "source": [
    "## Exercise 1 - K-Means Clustering\n",
    "\n",
    "**Describe**: Implement the K-means clustering algorithm to cluster data points and use it for image compression.\n",
    "\n",
    "**Theoretical Knowledge**: K-means clustering, finding closest centroids, computing centroid means.\n",
    "\n",
    "**Functions**: \n",
    "- `findClosestCentroids` - Assigns each data point to the closest centroid.\n",
    "- `computeCentroids` - Computes the new centroid means based on the centroid assignments. \n",
    "- `runKMeans` - Runs the K-means algorithm.\n",
    "- `kMeansInitCentroids` - Initializes the centroids to random examples.\n",
    "\n",
    "**Data**: \n",
    "- `ex7data2.mat` - Toy 2D dataset \n",
    "- `bird_small.png` - Image for compression\n",
    "\n",
    "**Steps**:\n",
    "1. Implement `findClosestCentroids` to assign data points to closest centroid\n",
    "2. Implement `computeCentroids` to recompute centroid means\n",
    "3. Run K-means on the 2D toy dataset to see it working \n",
    "4. Use K-means to compress the image by reducing the number of colors\n",
    "\n",
    "## Exercise 2 - PCA\n",
    "\n",
    "**Describe**: Implement PCA and use it for dimensionality reduction on a dataset of face images.\n",
    "\n",
    "**Theoretical Knowledge**: PCA, covariance matrix, SVD\n",
    "\n",
    "**Functions**:\n",
    "- `pca` - Compute PCA on the dataset\n",
    "- `projectData` - Project data onto lower dimensional space\n",
    "- `recoverData` - Recover approximation of original data \n",
    "\n",
    "**Data**: \n",
    "- `ex7data1.mat` - 2D toy dataset\n",
    "- `ex7faces.mat` - Face image dataset\n",
    "\n",
    "**Steps**:\n",
    "1. Implement PCA in `pca` to compute principal components\n",
    "2. Complete `projectData` to project data onto lower dimensions\n",
    "3. Complete `recoverData` to reconstruct approximation of original data\n",
    "4. Use PCA for dimensionality reduction on the face dataset"
   ]
  },
  {
   "cell_type": "markdown",
   "metadata": {},
   "source": []
  }
 ],
 "metadata": {
  "kernelspec": {
   "display_name": "base",
   "language": "python",
   "name": "python3"
  },
  "language_info": {
   "name": "python",
   "version": "3.11.5"
  }
 },
 "nbformat": 4,
 "nbformat_minor": 2
}

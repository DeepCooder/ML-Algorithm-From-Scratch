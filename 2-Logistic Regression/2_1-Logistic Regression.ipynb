{
 "cells": [
  {
   "cell_type": "code",
   "execution_count": 11,
   "id": "8b16b3f1",
   "metadata": {},
   "outputs": [],
   "source": [
    "import numpy as np\n",
    "import pandas as pd\n",
    "import matplotlib.pyplot as plt"
   ]
  },
  {
   "cell_type": "code",
   "execution_count": 12,
   "id": "99d0e0ba",
   "metadata": {},
   "outputs": [
    {
     "data": {
      "text/plain": [
       "<bound method DataFrame.info of        score1     score2  result\n",
       "0   34.623660  78.024693       0\n",
       "1   30.286711  43.894998       0\n",
       "2   35.847409  72.902198       0\n",
       "3   60.182599  86.308552       1\n",
       "4   79.032736  75.344376       1\n",
       "..        ...        ...     ...\n",
       "95  83.489163  48.380286       1\n",
       "96  42.261701  87.103851       1\n",
       "97  99.315009  68.775409       1\n",
       "98  55.340018  64.931938       1\n",
       "99  74.775893  89.529813       1\n",
       "\n",
       "[100 rows x 3 columns]>"
      ]
     },
     "execution_count": 12,
     "metadata": {},
     "output_type": "execute_result"
    }
   ],
   "source": [
    "path = r\"D:\\MyProjects\\Python\\Andrew Ng_ML_Exercise\\python代码\\ex2-logistic regression\\ex2data1.txt\"\n",
    "raw_data = pd.read_csv(path,sep=\",\" ,names=(\"score1\",\"score2\",\"result\"))\n",
    "raw_data.info"
   ]
  },
  {
   "cell_type": "code",
   "execution_count": 13,
   "id": "6c10dc69",
   "metadata": {},
   "outputs": [
    {
     "data": {
      "text/html": [
       "<div>\n",
       "<style scoped>\n",
       "    .dataframe tbody tr th:only-of-type {\n",
       "        vertical-align: middle;\n",
       "    }\n",
       "\n",
       "    .dataframe tbody tr th {\n",
       "        vertical-align: top;\n",
       "    }\n",
       "\n",
       "    .dataframe thead th {\n",
       "        text-align: right;\n",
       "    }\n",
       "</style>\n",
       "<table border=\"1\" class=\"dataframe\">\n",
       "  <thead>\n",
       "    <tr style=\"text-align: right;\">\n",
       "      <th></th>\n",
       "      <th>score1</th>\n",
       "      <th>score2</th>\n",
       "      <th>result</th>\n",
       "    </tr>\n",
       "  </thead>\n",
       "  <tbody>\n",
       "    <tr>\n",
       "      <th>0</th>\n",
       "      <td>34.623660</td>\n",
       "      <td>78.024693</td>\n",
       "      <td>0</td>\n",
       "    </tr>\n",
       "    <tr>\n",
       "      <th>1</th>\n",
       "      <td>30.286711</td>\n",
       "      <td>43.894998</td>\n",
       "      <td>0</td>\n",
       "    </tr>\n",
       "    <tr>\n",
       "      <th>2</th>\n",
       "      <td>35.847409</td>\n",
       "      <td>72.902198</td>\n",
       "      <td>0</td>\n",
       "    </tr>\n",
       "    <tr>\n",
       "      <th>3</th>\n",
       "      <td>60.182599</td>\n",
       "      <td>86.308552</td>\n",
       "      <td>1</td>\n",
       "    </tr>\n",
       "    <tr>\n",
       "      <th>4</th>\n",
       "      <td>79.032736</td>\n",
       "      <td>75.344376</td>\n",
       "      <td>1</td>\n",
       "    </tr>\n",
       "  </tbody>\n",
       "</table>\n",
       "</div>"
      ],
      "text/plain": [
       "      score1     score2  result\n",
       "0  34.623660  78.024693       0\n",
       "1  30.286711  43.894998       0\n",
       "2  35.847409  72.902198       0\n",
       "3  60.182599  86.308552       1\n",
       "4  79.032736  75.344376       1"
      ]
     },
     "execution_count": 13,
     "metadata": {},
     "output_type": "execute_result"
    }
   ],
   "source": [
    "data = raw_data\n",
    "data.head()"
   ]
  },
  {
   "cell_type": "code",
   "execution_count": 14,
   "id": "9e5b4ead",
   "metadata": {
    "collapsed": true
   },
   "outputs": [
    {
     "data": {
      "image/png": "[encoded data removed]",
      "text/plain": [
       "<Figure size 640x480 with 1 Axes>"
      ]
     },
     "metadata": {},
     "output_type": "display_data"
    }
   ],
   "source": [
    "# Get a subplot object\n",
    "ax = plt.subplot()\n",
    "\n",
    "# Filter the data to get the scores of the students who passed\n",
    "score_pass = raw_data[raw_data[\"result\"]==1]\n",
    "\n",
    "# Filter the data to get the scores of the students who didn't pass\n",
    "score_deny = raw_data[raw_data[\"result\"]==0]\n",
    "\n",
    "# Plot the scores of the students who passed with 'o' markers\n",
    "ax.scatter(score_pass[\"score1\"],score_pass[\"score2\"],marker= \"o\")\n",
    "\n",
    "# Plot the scores of the students who didn't pass with 'x' markers\n",
    "ax.scatter(score_deny[\"score1\"],score_deny[\"score2\"], marker=\"x\")\n",
    "\n",
    "# Display the plot\n",
    "plt.show()"
   ]
  },
  {
   "cell_type": "code",
   "execution_count": 15,
   "id": "93e16d85",
   "metadata": {
    "scrolled": true
   },
   "outputs": [
    {
     "data": {
      "text/plain": [
       "0.9933071490757153"
      ]
     },
     "execution_count": 15,
     "metadata": {},
     "output_type": "execute_result"
    }
   ],
   "source": [
    "def sigmoid(z):\n",
    "    return 1/(1+np.exp(-z))\n",
    "sigmoid(5)"
   ]
  },
  {
   "cell_type": "code",
   "execution_count": 88,
   "id": "8d32771f",
   "metadata": {},
   "outputs": [
    {
     "data": {
      "text/plain": [
       "array([0., 0., 0.])"
      ]
     },
     "execution_count": 88,
     "metadata": {},
     "output_type": "execute_result"
    }
   ],
   "source": [
    "theta = np.zeros(3)\n",
    "theta"
   ]
  },
  {
   "cell_type": "code",
   "execution_count": 70,
   "id": "bdd9a76e",
   "metadata": {},
   "outputs": [],
   "source": [
    "# Define a function to get the feature matrix X from the data\n",
    "def get_x(data):\n",
    "    # Normalize the data by subtracting the mean and dividing by the standard deviation\n",
    "    data = data.apply(lambda column:(column-column.mean())/column.std())\n",
    "    # Convert the data to a numpy array\n",
    "    X = data.to_numpy()\n",
    "    # Insert a column of ones at the beginning of the array for the bias term\n",
    "    X = np.insert(X,obj=0,values=1,axis=1)\n",
    "    # Delete the last column of the array (the 'result' column)\n",
    "    X = np.delete(X,obj=-1,axis=1)\n",
    "    # Return the feature matrix\n",
    "    return X\n",
    "\n",
    "# Define a function to get the target vector y from the data\n",
    "def get_y(data):\n",
    "    # Return the 'result' column as a numpy array\n",
    "    return data[\"result\"].to_numpy()\n",
    "\n",
    "# Get the feature matrix X from the data\n",
    "X = get_x(data)\n",
    "\n",
    "# Get the target vector y from the data\n",
    "y = get_y(data)"
   ]
  },
  {
   "cell_type": "code",
   "execution_count": 90,
   "id": "4a9396c2",
   "metadata": {},
   "outputs": [
    {
     "data": {
      "text/plain": [
       "0.6931471805599452"
      ]
     },
     "execution_count": 90,
     "metadata": {},
     "output_type": "execute_result"
    }
   ],
   "source": [
    "# Define a function to calculate the cost\n",
    "def cost(theta, X, y):\n",
    "    # Get the number of training examples\n",
    "    m = X.shape[0]\n",
    "    # Calculate the cost using the logistic regression cost function formula\n",
    "    cost_value = (1/m)*(-y@np.log(sigmoid(X@theta)) - (1-y)@np.log(1-sigmoid(X@theta))).mean()\n",
    "    # Return the cost\n",
    "    return cost_value\n",
    "\n",
    "# Call the cost function with the initial theta, feature matrix X, and target vector y\n",
    "cost(theta, X, y)"
   ]
  },
  {
   "cell_type": "code",
   "execution_count": 98,
   "id": "e578b7af",
   "metadata": {},
   "outputs": [
    {
     "data": {
      "text/plain": [
       "array([-0.1       , -0.27981946, -0.24972806])"
      ]
     },
     "execution_count": 98,
     "metadata": {},
     "output_type": "execute_result"
    }
   ],
   "source": [
    "# Define a function to calculate the gradient\n",
    "def gradient(theta, X, y):\n",
    "    # Get the number of training examples\n",
    "    m = X.shape[0]\n",
    "    # Expand the dimensions of y to make it a 2D array\n",
    "    y = y[:, np.newaxis]\n",
    "    # Expand the dimensions of theta to make it a 2D array\n",
    "    theta = theta[:, np.newaxis]\n",
    "    # Calculate the gradient using the logistic regression gradient formula\n",
    "    return (1/m)*((sigmoid(X@theta)-y).T@X).flatten()\n",
    "\n",
    "# Call the gradient function with the initial theta, feature matrix X, and target vector y\n",
    "gradient(theta, X, y)"
   ]
  },
  {
   "cell_type": "code",
   "execution_count": 99,
   "id": "b35990a4",
   "metadata": {
    "scrolled": true
   },
   "outputs": [
    {
     "data": {
      "text/plain": [
       "     fun: 0.20349770158961694\n",
       "     jac: array([ 3.30057041e-09, -2.76808625e-08, -4.07497604e-08])\n",
       " message: 'Optimization terminated successfully.'\n",
       "    nfev: 9\n",
       "    nhev: 0\n",
       "     nit: 8\n",
       "    njev: 31\n",
       "  status: 0\n",
       " success: True\n",
       "       x: array([1.71844725, 4.01289721, 3.74389778])"
      ]
     },
     "execution_count": 99,
     "metadata": {},
     "output_type": "execute_result"
    }
   ],
   "source": [
    "# Import the optimize module from scipy, which provides functions for minimizing or maximizing objective functions.\n",
    "from scipy import optimize\n",
    "\n",
    "# Use the minimize function from the optimize module.\n",
    "# This function minimizes a scalar function of one or more variables.\n",
    "res = optimize.minimize(fun=cost, args=(X,y),x0=theta ,method='Newton-CG', jac=gradient)"
   ]
  },
  {
   "cell_type": "code",
   "execution_count": 101,
   "id": "de260bb1",
   "metadata": {
    "scrolled": true
   },
   "outputs": [],
   "source": [
    "# Define a function to predict the class of an instance based on its features and the theta values\n",
    "def predict(X,theta):\n",
    "    # Calculate the probability that the instance belongs to class 1\n",
    "    prob = sigmoid(X@theta)\n",
    "    # If the probability is greater than or equal to 0.5, predict class 1, otherwise predict class 0\n",
    "    return (prob>=0.5).astype(int)\n",
    "\n",
    "# Get the optimal theta values from the result of the optimization\n",
    "final_theta = res.x[:,np.newaxis]"
   ]
  },
  {
   "cell_type": "code",
   "execution_count": 113,
   "id": "99657636",
   "metadata": {},
   "outputs": [
    {
     "name": "stdout",
     "output_type": "stream",
     "text": [
      "              precision    recall  f1-score   support\n",
      "\n",
      "           0       0.87      0.85      0.86        40\n",
      "           1       0.90      0.92      0.91        60\n",
      "\n",
      "    accuracy                           0.89       100\n",
      "   macro avg       0.89      0.88      0.88       100\n",
      "weighted avg       0.89      0.89      0.89       100\n",
      "\n"
     ]
    }
   ],
   "source": [
    "# Import the classification_report function from sklearn.metrics. This function builds a text report showing the main classification metrics.\n",
    "from sklearn.metrics import classification_report\n",
    "\n",
    "# Use the predict function to predict the classes of the instances in the feature matrix X\n",
    "pre_y = predict(X,final_theta)\n",
    "\n",
    "# Expand the dimensions of y to make it a 2D array\n",
    "bef_y = y[:,np.newaxis]\n",
    "\n",
    "# Use the classification_report function to generate a report of the main classification metrics. The report includes precision, recall, f1-score, and support for each class.\n",
    "print(classification_report(bef_y, pre_y))"
   ]
  },
  {
   "cell_type": "code",
   "execution_count": 114,
   "id": "a9ca4549",
   "metadata": {},
   "outputs": [
    {
     "name": "stdout",
     "output_type": "stream",
     "text": [
      "[1.71844725 4.01289721 3.74389778]\n"
     ]
    }
   ],
   "source": [
    "print(res.x)"
   ]
  },
  {
   "cell_type": "code",
   "execution_count": null,
   "id": "13f793ee",
   "metadata": {},
   "outputs": [],
   "source": []
  },
  {
   "cell_type": "code",
   "execution_count": null,
   "id": "62827a11",
   "metadata": {},
   "outputs": [],
   "source": []
  },
  {
   "cell_type": "code",
   "execution_count": null,
   "id": "54b25f02",
   "metadata": {},
   "outputs": [],
   "source": []
  },
  {
   "cell_type": "code",
   "execution_count": null,
   "id": "8e9c7dad",
   "metadata": {},
   "outputs": [],
   "source": []
  },
  {
   "cell_type": "code",
   "execution_count": null,
   "id": "b233e84c",
   "metadata": {},
   "outputs": [],
   "source": []
  },
  {
   "cell_type": "code",
   "execution_count": null,
   "id": "9d37bf25",
   "metadata": {},
   "outputs": [],
   "source": []
  },
  {
   "cell_type": "code",
   "execution_count": null,
   "id": "b2e5cd15",
   "metadata": {},
   "outputs": [],
   "source": []
  },
  {
   "cell_type": "code",
   "execution_count": null,
   "id": "69d1beb7",
   "metadata": {},
   "outputs": [],
   "source": []
  },
  {
   "cell_type": "code",
   "execution_count": null,
   "id": "600fe7c2",
   "metadata": {},
   "outputs": [],
   "source": []
  },
  {
   "cell_type": "code",
   "execution_count": null,
   "id": "28b30bdf",
   "metadata": {},
   "outputs": [],
   "source": []
  },
  {
   "cell_type": "code",
   "execution_count": null,
   "id": "7c089dd9",
   "metadata": {},
   "outputs": [],
   "source": []
  },
  {
   "cell_type": "code",
   "execution_count": null,
   "id": "86bc108f",
   "metadata": {},
   "outputs": [],
   "source": []
  },
  {
   "cell_type": "code",
   "execution_count": null,
   "id": "2aecc891",
   "metadata": {},
   "outputs": [],
   "source": []
  },
  {
   "cell_type": "code",
   "execution_count": null,
   "id": "866d490b",
   "metadata": {},
   "outputs": [],
   "source": []
  },
  {
   "cell_type": "code",
   "execution_count": null,
   "id": "e41e8d76",
   "metadata": {},
   "outputs": [],
   "source": []
  },
  {
   "cell_type": "code",
   "execution_count": null,
   "id": "f5bdc2cb",
   "metadata": {},
   "outputs": [],
   "source": []
  },
  {
   "cell_type": "code",
   "execution_count": null,
   "id": "3770d705",
   "metadata": {},
   "outputs": [],
   "source": []
  },
  {
   "cell_type": "code",
   "execution_count": null,
   "id": "4a9c83da",
   "metadata": {},
   "outputs": [],
   "source": []
  },
  {
   "cell_type": "code",
   "execution_count": null,
   "id": "a929e440",
   "metadata": {},
   "outputs": [],
   "source": []
  },
  {
   "cell_type": "code",
   "execution_count": null,
   "id": "cfd2a4f7",
   "metadata": {},
   "outputs": [],
   "source": []
  },
  {
   "cell_type": "code",
   "execution_count": null,
   "id": "23c595c5",
   "metadata": {},
   "outputs": [],
   "source": []
  },
  {
   "cell_type": "code",
   "execution_count": null,
   "id": "02a640fb",
   "metadata": {},
   "outputs": [],
   "source": []
  },
  {
   "cell_type": "code",
   "execution_count": null,
   "id": "9836c319",
   "metadata": {},
   "outputs": [],
   "source": []
  },
  {
   "cell_type": "code",
   "execution_count": null,
   "id": "8f9b22b4",
   "metadata": {},
   "outputs": [],
   "source": []
  },
  {
   "cell_type": "code",
   "execution_count": null,
   "id": "dd00d631",
   "metadata": {},
   "outputs": [],
   "source": []
  },
  {
   "cell_type": "code",
   "execution_count": null,
   "id": "3bd0f9a5",
   "metadata": {},
   "outputs": [],
   "source": []
  }
 ],
 "metadata": {
  "kernelspec": {
   "display_name": "Python 3 (ipykernel)",
   "language": "python",
   "name": "python3"
  },
  "language_info": {
   "codemirror_mode": {
    "name": "ipython",
    "version": 3
   },
   "file_extension": ".py",
   "mimetype": "text/x-python",
   "name": "python",
   "nbconvert_exporter": "python",
   "pygments_lexer": "ipython3",
   "version": "3.9.13"
  }
 },
 "nbformat": 4,
 "nbformat_minor": 5
}

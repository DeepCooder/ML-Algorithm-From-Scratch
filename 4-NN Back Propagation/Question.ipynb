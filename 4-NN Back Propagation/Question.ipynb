{
 "cells": [
  {
   "cell_type": "markdown",
   "metadata": {},
   "source": [
    "The exercise focuses on implementing a neural network for handwritten digit recognition.\n",
    "\n",
    "**Exercises:**\n",
    "\n",
    "1. Implement a feedforward propagation and cost function for a neural network without regularization. The cost function is the cross-entropy error function:\n",
    "\n",
    "$J(\\theta) = -\\frac{1}{m} \\sum\\limits_{i=1}^m \\sum\\limits_{k=1}^K [y_k^{(i)} \\log ((h_\\theta (x^{(i)}))_k) + (1-y_k^{(i)})\\log (1-(h_\\theta(x^{(i)}))_k)]$\n",
    "\n",
    "where $m$ is the number of examples, $K$ is the number of output labels, $y^{(i)}$ is the label vector for example $i$, $h_\\theta(x)$ is the neural network hypothesis function. Key functions to implement: `nnCostFunction`.\n",
    "\n",
    "2. Implement the regularized cost function by adding an extra regularization term:\n",
    "\n",
    "$J(\\theta) = \\dots + \\frac{\\lambda}{2m}(\\sum\\limits_{j=1}^{25}\\sum\\limits_{k=1}^{400}(\\Theta_j^{(1)})^2 + \\sum\\limits_{j=1}^{10}\\sum\\limits_{k=1}^{25}(\\Theta_j^{(2)})^2)$\n",
    "\n",
    "3. Implement backpropagation to compute gradients and train the neural network by optimizing the cost function $J(\\theta)$. Key functions: `sigmoidGradient`, `nnCostFunction`.\n",
    "\n",
    "4. Modify backpropagation to account for regularization when computing gradients.\n",
    "\n",
    "The key data used is:\n",
    "\n",
    "- `ex3data1.mat`: Training examples \n",
    "- `ex4weights.mat`: Pre-trained neural network weights\n",
    "\n",
    "The main steps are:\n",
    "\n",
    "1. Implement feedforward and cost functions \n",
    "2. Implement backpropagation for gradient calculation\n",
    "3. Train neural network using gradients and optimization algorithm like `fmincg`\n",
    "4. Implement regularization and modify gradient computation \n",
    "5. Retrain the regularized neural network "
   ]
  },
  {
   "cell_type": "markdown",
   "metadata": {},
   "source": []
  }
 ],
 "metadata": {
  "kernelspec": {
   "display_name": "base",
   "language": "python",
   "name": "python3"
  },
  "language_info": {
   "name": "python",
   "version": "3.11.5"
  }
 },
 "nbformat": 4,
 "nbformat_minor": 2
}

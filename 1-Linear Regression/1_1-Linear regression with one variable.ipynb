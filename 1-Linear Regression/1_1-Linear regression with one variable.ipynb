{
 "cells": [
  {
   "cell_type": "code",
   "execution_count": 57,
   "id": "ce253629",
   "metadata": {},
   "outputs": [],
   "source": [
    "import pandas as pd\n",
    "import matplotlib.pyplot as plt\n",
    "import numpy as np\n",
    "import matplotlib.animation as animation\n"
   ]
  },
  {
   "cell_type": "code",
   "execution_count": 114,
   "id": "fbe92d7a",
   "metadata": {},
   "outputs": [],
   "source": [
    "global theta, alpha, data, j_y\n",
    "j_y = []\n",
    "theta = np.zeros((2, 1))\n",
    "alpha = 0.01\n",
    "interrations = 1500\n",
    "path = \"D:\\BaiduNetdiskDownload\\AI学习资料\\machine-learning-2014\\机器学习课程2014源代码\\python代码\\ex1-linear regression\\ex1data1.txt\"\n",
    "data = pd.read_csv(path, sep=\",\", names=[\"population\", \"profit\"])\n",
    "data[\"ones\"] = 1"
   ]
  },
  {
   "cell_type": "code",
   "execution_count": 118,
   "id": "61c7ff74",
   "metadata": {},
   "outputs": [],
   "source": [
    "# Define the gradient descent function\n",
    "def gra_dent():\n",
    "    # Initialize temporary variables for theta0 and theta1\n",
    "    tem_theta0, tem_theta1 = theta[0][0], theta[1][0]\n",
    "    \n",
    "    # Create a new data array with ones and population data\n",
    "    new_data = np.array([data[\"ones\"], data[\"population\"]])\n",
    "    \n",
    "    # Get the number of training examples\n",
    "    m = new_data.shape[1]\n",
    "    \n",
    "    # Create a new array with population data\n",
    "    x_theta = np.array([data[\"population\"]]).T\n",
    "    \n",
    "    # Calculate the difference between the hypothesis and the actual profit\n",
    "    sub = theta.T.dot(new_data) - np.array([data[\"profit\"]])\n",
    "    \n",
    "    # Update temporary theta0 and theta1 using the gradient descent formula\n",
    "    tem_theta0 -= alpha*((1/m)*sub.sum())\n",
    "    tem_theta1 -= alpha*((1/m)*(sub.dot(x_theta)).sum())\n",
    "    \n",
    "    # Update theta0 and theta1 with the new values\n",
    "    theta[0][0]=tem_theta0\n",
    "    theta[1][0]=tem_theta1\n",
    "    \n",
    "    # Calculate the cost function and append it to j_y\n",
    "    m_sums = (1/m)*(sub.sum())**2\n",
    "    j_y.append(m_sums)\n",
    "    \n",
    "    # Return the updated theta values\n",
    "    return theta\n",
    "\n",
    "# Get the number of training examples\n",
    "m = data.shape[0]\n",
    "\n",
    "# Run the gradient descent function for a specified number of iterations\n",
    "for i in range(interrations):\n",
    "    gra_dent()"
   ]
  },
  {
   "cell_type": "code",
   "execution_count": 133,
   "id": "e0aab08a",
   "metadata": {},
   "outputs": [
    {
     "data": {
      "image/png": "[encoded data removed]",
      "text/plain": [
       "<Figure size 640x480 with 1 Axes>"
      ]
     },
     "metadata": {},
     "output_type": "display_data"
    },
    {
     "data": {
      "text/plain": [
       "(97,)"
      ]
     },
     "execution_count": 133,
     "metadata": {},
     "output_type": "execute_result"
    }
   ],
   "source": [
    "# Create a new array with ones and population data\n",
    "new_data = np.array([data[\"ones\"], data[\"population\"]])\n",
    "\n",
    "# Create an array with population data\n",
    "x = np.array(data[\"population\"])\n",
    "\n",
    "# Create an array with profit data\n",
    "y = np.array(data[\"profit\"])\n",
    "\n",
    "# Calculate the predicted profit using the theta values and the new_data array\n",
    "y_after = np.array(theta.T.dot(new_data))[0]\n",
    "\n",
    "# Create a new figure and a set of subplots\n",
    "fig,axes = plt.subplots()\n",
    "\n",
    "# Plot the population data (x) against the profit data (y) as scatter plot\n",
    "axes.scatter(x,y)\n",
    "\n",
    "# Plot the population data (x) against the predicted profit data (y_after) as a line plot\n",
    "axes.plot(x,y_after)\n",
    "\n",
    "# Display the figure\n",
    "plt.show()\n",
    "\n",
    "# Print the shape of the predicted profit data array\n",
    "y_after.shape"
   ]
  }
 ],
 "metadata": {
  "kernelspec": {
   "display_name": "Python 3 (ipykernel)",
   "language": "python",
   "name": "python3"
  },
  "language_info": {
   "codemirror_mode": {
    "name": "ipython",
    "version": 3
   },
   "file_extension": ".py",
   "mimetype": "text/x-python",
   "name": "python",
   "nbconvert_exporter": "python",
   "pygments_lexer": "ipython3",
   "version": "3.9.13"
  }
 },
 "nbformat": 4,
 "nbformat_minor": 5
}

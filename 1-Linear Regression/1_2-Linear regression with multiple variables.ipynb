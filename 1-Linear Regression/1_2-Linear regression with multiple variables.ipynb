{
 "cells": [
  {
   "cell_type": "code",
   "execution_count": 84,
   "id": "9cf57eeb",
   "metadata": {},
   "outputs": [],
   "source": [
    "import pandas as pd \n",
    "import numpy as np\n",
    "import matplotlib.pyplot as plt"
   ]
  },
  {
   "cell_type": "code",
   "execution_count": 85,
   "id": "e494c975",
   "metadata": {},
   "outputs": [
    {
     "data": {
      "text/html": [
       "<div>\n",
       "<style scoped>\n",
       "    .dataframe tbody tr th:only-of-type {\n",
       "        vertical-align: middle;\n",
       "    }\n",
       "\n",
       "    .dataframe tbody tr th {\n",
       "        vertical-align: top;\n",
       "    }\n",
       "\n",
       "    .dataframe thead th {\n",
       "        text-align: right;\n",
       "    }\n",
       "</style>\n",
       "<table border=\"1\" class=\"dataframe\">\n",
       "  <thead>\n",
       "    <tr style=\"text-align: right;\">\n",
       "      <th></th>\n",
       "      <th>size</th>\n",
       "      <th>bedrooms</th>\n",
       "      <th>price</th>\n",
       "    </tr>\n",
       "  </thead>\n",
       "  <tbody>\n",
       "    <tr>\n",
       "      <th>0</th>\n",
       "      <td>0.130010</td>\n",
       "      <td>-0.223675</td>\n",
       "      <td>0.475747</td>\n",
       "    </tr>\n",
       "    <tr>\n",
       "      <th>1</th>\n",
       "      <td>-0.504190</td>\n",
       "      <td>-0.223675</td>\n",
       "      <td>-0.084074</td>\n",
       "    </tr>\n",
       "    <tr>\n",
       "      <th>2</th>\n",
       "      <td>0.502476</td>\n",
       "      <td>-0.223675</td>\n",
       "      <td>0.228626</td>\n",
       "    </tr>\n",
       "    <tr>\n",
       "      <th>3</th>\n",
       "      <td>-0.735723</td>\n",
       "      <td>-1.537767</td>\n",
       "      <td>-0.867025</td>\n",
       "    </tr>\n",
       "    <tr>\n",
       "      <th>4</th>\n",
       "      <td>1.257476</td>\n",
       "      <td>1.090417</td>\n",
       "      <td>1.595389</td>\n",
       "    </tr>\n",
       "  </tbody>\n",
       "</table>\n",
       "</div>"
      ],
      "text/plain": [
       "       size  bedrooms     price\n",
       "0  0.130010 -0.223675  0.475747\n",
       "1 -0.504190 -0.223675 -0.084074\n",
       "2  0.502476 -0.223675  0.228626\n",
       "3 -0.735723 -1.537767 -0.867025\n",
       "4  1.257476  1.090417  1.595389"
      ]
     },
     "execution_count": 85,
     "metadata": {},
     "output_type": "execute_result"
    }
   ],
   "source": [
    "# Define the path to the data file\n",
    "path = r\"D:\\MyProjects\\Python\\Andrew Ng_ML_Exercise\\python代码\\ex1-linear regression\\ex1data2.txt\"\n",
    "\n",
    "# Load the data from the file into a pandas DataFrame, specifying the column names\n",
    "data = pd.read_csv(path,sep=\",\",names=[\"size\",\"bedrooms\",\"price\"])\n",
    "\n",
    "# Normalize the data by subtracting the mean and dividing by the standard deviation\n",
    "data = data.apply(lambda column:(column-column.mean())/column.std())\n",
    "\n",
    "# Initialize theta as a zero vector with the same number of rows as the number of columns in the data\n",
    "theta = np.zeros(data.shape[1]).reshape(3,1)"
   ]
  },
  {
   "cell_type": "code",
   "execution_count": 86,
   "id": "972848a1",
   "metadata": {},
   "outputs": [
    {
     "name": "stdout",
     "output_type": "stream",
     "text": [
      "gte_x.shape:(47, 3)\n",
      "get_y:(47, 1)\n"
     ]
    }
   ],
   "source": [
    "# Define a function to get the feature matrix X from the data\n",
    "def get_x(data):\n",
    "    # Add a column of ones to the data for the bias term\n",
    "    data[\"ones\"] = np.ones(data.shape[0])\n",
    "    # Return the data as a numpy array\n",
    "    return data.loc[:,[\"ones\",\"bedrooms\", \"size\"]].to_numpy()\n",
    "\n",
    "# Define a function to get the target vector y from the data\n",
    "def get_y(data):\n",
    "    # Get the 'price' column from the data and expand its dimensions to make it a 2D array\n",
    "    y = np.expand_dims(data[\"price\"].to_numpy(), axis=1)\n",
    "    # Return the target vector\n",
    "    return y"
   ]
  },
  {
   "cell_type": "code",
   "execution_count": 106,
   "id": "edcba941",
   "metadata": {},
   "outputs": [
    {
     "data": {
      "text/plain": [
       "array([[-9.93295281e-17],\n",
       "       [-5.31788197e-02],\n",
       "       [ 8.84765988e-01]])"
      ]
     },
     "execution_count": 106,
     "metadata": {},
     "output_type": "execute_result"
    },
    {
     "data": {
      "image/png": "[encoded data removed]",
      "text/plain": [
       "<Figure size 640x480 with 1 Axes>"
      ]
     },
     "metadata": {},
     "output_type": "display_data"
    }
   ],
   "source": [
    "# Define a function to calculate the cost\n",
    "def cost(data,theta):\n",
    "    # Get the number of training examples\n",
    "    m = data.shape[0]\n",
    "    # Get the feature matrix X\n",
    "    x = get_x(data)\n",
    "    # Get the target vector y\n",
    "    y = get_y(data)\n",
    "    # Calculate the difference between the predicted and actual values\n",
    "    inner = x@theta - y\n",
    "    # Square the difference\n",
    "    inner = inner.T@inner\n",
    "    # Return the cost\n",
    "    return (1/2*m)*inner[0][0]\n",
    "\n",
    "# Define a function to perform one step of gradient descent\n",
    "def descent(data,alpha,theta):\n",
    "    # Get the number of training examples\n",
    "    m = data.shape[0]\n",
    "    # Make a copy of theta\n",
    "    _theta = theta.copy()\n",
    "    # Get the feature matrix X\n",
    "    x = get_x(data)\n",
    "    # Get the target vector y\n",
    "    y = get_y(data)\n",
    "    # Update theta\n",
    "    _theta -= alpha * (1/m)*(x.T@(x@_theta-y))\n",
    "    # Calculate the current cost\n",
    "    cu_cost = cost(data,_theta)\n",
    "    # Return the updated theta and the current cost\n",
    "    return _theta, cu_cost\n",
    "\n",
    "# Define a function to perform batch gradient descent\n",
    "def bath_descent(alpha,data,iters,theta):\n",
    "    # Create a new figure and a set of subplots\n",
    "    fig, ax = plt.subplots()\n",
    "    # Initialize an empty list to store the cost at each iteration\n",
    "    cost_box=[]\n",
    "    # Perform gradient descent for a specified number of iterations\n",
    "    for i in range(iters):\n",
    "        # Perform one step of gradient descent and get the current cost\n",
    "        final_theta,cu_cost = descent(data,alpha,theta)\n",
    "        # Append the current cost to the list\n",
    "        cost_box.append(cu_cost)\n",
    "        # Update theta\n",
    "        theta = final_theta\n",
    "    # Plot the cost at each iteration\n",
    "    ax.plot(np.arange(0,iters), cost_box)\n",
    "    ax.set_xlabel(\"iters\")\n",
    "    ax.set_ylabel(\"cost by iters\")\n",
    "    # Return the final theta\n",
    "    return final_theta\n",
    "\n",
    "# Call the batch gradient descent function with a learning rate of 0.05, the data, 1500 iterations, and the initial theta\n",
    "bath_descent(0.05,data,1500,theta)"
   ]
  },
  {
   "cell_type": "code",
   "execution_count": 107,
   "id": "894e778f",
   "metadata": {},
   "outputs": [
    {
     "data": {
      "text/plain": [
       "array([[1459.7043435]])"
      ]
     },
     "execution_count": 107,
     "metadata": {},
     "output_type": "execute_result"
    }
   ],
   "source": [
    "# Define a tuple with the values for the features\n",
    "de_data = (1,3,1650)\n",
    "\n",
    "# Define a function to predict the price based on the theta values and the features\n",
    "def pre_price(theta,*arg):\n",
    "    # Convert the features to a numpy array\n",
    "    data = np.asarray(arg)\n",
    "    # Calculate the predicted price by multiplying the features with the theta values\n",
    "    price = data@theta\n",
    "    # Return the predicted price\n",
    "    return price\n",
    "\n",
    "# Call the pre_price function with the final theta values and the features\n",
    "pre_price(final_theta,de_data)"
   ]
  },
  {
   "cell_type": "code",
   "execution_count": 108,
   "id": "7322a304",
   "metadata": {},
   "outputs": [
    {
     "data": {
      "text/plain": [
       "array([[1459.7043435]])"
      ]
     },
     "execution_count": 108,
     "metadata": {},
     "output_type": "execute_result"
    }
   ],
   "source": [
    "# Define a function to calculate the optimal values of theta using the normal equation\n",
    "def formal_func(data):\n",
    "    # Get the feature matrix X\n",
    "    x = get_x(data)\n",
    "    # Get the target vector y\n",
    "    y = get_y(data)\n",
    "    # Calculate theta using the normal equation\n",
    "    theta = np.linalg.inv(x.T@x)@x.T@y\n",
    "    # Return the optimal values of theta\n",
    "    return theta\n",
    "\n",
    "# Call the function with the data to get the optimal values of theta\n",
    "final_theta = formal_func(data)\n",
    "\n",
    "# Define a tuple with the values for the features\n",
    "de_data = (1,3,1650)\n",
    "\n",
    "# Call the pre_price function with the optimal theta values and the features to predict the price\n",
    "pre_price(final_theta,de_data)"
   ]
  },
  {
   "cell_type": "code",
   "execution_count": 69,
   "id": "8c2d16d5",
   "metadata": {},
   "outputs": [],
   "source": []
  },
  {
   "cell_type": "code",
   "execution_count": null,
   "id": "1e30d179",
   "metadata": {},
   "outputs": [],
   "source": []
  },
  {
   "cell_type": "code",
   "execution_count": null,
   "id": "bbd104e4",
   "metadata": {},
   "outputs": [],
   "source": []
  },
  {
   "cell_type": "code",
   "execution_count": null,
   "id": "5fe2e1c2",
   "metadata": {},
   "outputs": [],
   "source": []
  }
 ],
 "metadata": {
  "kernelspec": {
   "display_name": "Python 3 (ipykernel)",
   "language": "python",
   "name": "python3"
  },
  "language_info": {
   "codemirror_mode": {
    "name": "ipython",
    "version": 3
   },
   "file_extension": ".py",
   "mimetype": "text/x-python",
   "name": "python",
   "nbconvert_exporter": "python",
   "pygments_lexer": "ipython3",
   "version": "3.9.13"
  }
 },
 "nbformat": 4,
 "nbformat_minor": 5
}
